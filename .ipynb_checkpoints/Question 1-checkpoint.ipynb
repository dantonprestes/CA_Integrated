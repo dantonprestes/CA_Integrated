{
 "cells": [
  {
   "cell_type": "markdown",
   "id": "c68264da",
   "metadata": {},
   "source": [
    "# Integrated Assessment\n",
    "Modules: Machine Learning for Business \n",
    "\n",
    "Student: Danton Prestes - sbs23086"
   ]
  },
  {
   "cell_type": "code",
   "execution_count": null,
   "id": "1ad03a0e",
   "metadata": {},
   "outputs": [],
   "source": []
  },
  {
   "cell_type": "markdown",
   "id": "3d8423af",
   "metadata": {},
   "source": [
    "# Question 1"
   ]
  },
  {
   "attachments": {},
   "cell_type": "markdown",
   "id": "65a54e97",
   "metadata": {},
   "source": [
    "Discuss the concept and application of Time series analysis using machine learning modelling by providing a real-world data set. \n",
    "\n",
    "What is the purpose of The Augmented Dickey-Fuller test in time series?\n",
    "\n",
    "Augmented Dickey Fuller test (ADF Test) is a common statistical test used to test whether a given Time series is stationary or not. \n",
    "\n",
    "It is one of the most commonly used statistical test when it comes to analyzing the stationary of a series. The ARIMA model mostly fit on the stationary dataset so we check the dataset is stationary or not by using the Dickey-Fuller Test.\n",
    "\n",
    "\n",
    "a) Apply an appropriate Box-Jenkins model to the chosen dataset (ARMA, ARIMA, SARIMA etc). \n",
    "Check for the model adequacy.\n"
   ]
  },
  {
   "cell_type": "code",
   "execution_count": null,
   "id": "c6810936",
   "metadata": {},
   "outputs": [],
   "source": [
    "##pip install --upgrade statsmodels pandas\n",
    "##pip install scikit-learn\n"
   ]
  },
  {
   "cell_type": "code",
   "execution_count": 7,
   "id": "7aeec2a7",
   "metadata": {},
   "outputs": [
    {
     "name": "stderr",
     "output_type": "stream",
     "text": [
      "/Users/dan/opt/anaconda3/lib/python3.9/site-packages/scipy/__init__.py:146: UserWarning: A NumPy version >=1.16.5 and <1.23.0 is required for this version of SciPy (detected version 1.26.2\n",
      "  warnings.warn(f\"A NumPy version >={np_minversion} and <{np_maxversion}\"\n"
     ]
    },
    {
     "ename": "ImportError",
     "evalue": "cannot import name 'METRIC_MAPPING64' from 'sklearn.metrics._dist_metrics' (/Users/dan/opt/anaconda3/lib/python3.9/site-packages/sklearn/metrics/_dist_metrics.cpython-39-darwin.so)",
     "output_type": "error",
     "traceback": [
      "\u001b[0;31m---------------------------------------------------------------------------\u001b[0m",
      "\u001b[0;31mImportError\u001b[0m                               Traceback (most recent call last)",
      "\u001b[0;32m/var/folders/gb/6tg5m0k52c1f9tw840r2g2xr0000gn/T/ipykernel_54906/4293680719.py\u001b[0m in \u001b[0;36m<module>\u001b[0;34m\u001b[0m\n\u001b[1;32m      4\u001b[0m \u001b[0;32mimport\u001b[0m \u001b[0mmatplotlib\u001b[0m\u001b[0;34m.\u001b[0m\u001b[0mpyplot\u001b[0m \u001b[0;32mas\u001b[0m \u001b[0mplt\u001b[0m\u001b[0;34m\u001b[0m\u001b[0;34m\u001b[0m\u001b[0m\n\u001b[1;32m      5\u001b[0m \u001b[0;32mimport\u001b[0m \u001b[0mseaborn\u001b[0m \u001b[0;32mas\u001b[0m \u001b[0msns\u001b[0m\u001b[0;34m\u001b[0m\u001b[0;34m\u001b[0m\u001b[0m\n\u001b[0;32m----> 6\u001b[0;31m \u001b[0;32mfrom\u001b[0m \u001b[0msklearn\u001b[0m\u001b[0;34m.\u001b[0m\u001b[0mmetrics\u001b[0m \u001b[0;32mimport\u001b[0m \u001b[0mmean_squared_error\u001b[0m\u001b[0;34m\u001b[0m\u001b[0;34m\u001b[0m\u001b[0m\n\u001b[0m\u001b[1;32m      7\u001b[0m \u001b[0;34m\u001b[0m\u001b[0m\n\u001b[1;32m      8\u001b[0m \u001b[0;32mfrom\u001b[0m \u001b[0mstatsmodels\u001b[0m\u001b[0;34m.\u001b[0m\u001b[0mtsa\u001b[0m\u001b[0;34m.\u001b[0m\u001b[0marima\u001b[0m\u001b[0;34m.\u001b[0m\u001b[0mmodel\u001b[0m \u001b[0;32mimport\u001b[0m \u001b[0mARIMA\u001b[0m\u001b[0;34m\u001b[0m\u001b[0;34m\u001b[0m\u001b[0m\n",
      "\u001b[0;32m~/opt/anaconda3/lib/python3.9/site-packages/sklearn/metrics/__init__.py\u001b[0m in \u001b[0;36m<module>\u001b[0;34m\u001b[0m\n\u001b[1;32m     39\u001b[0m \u001b[0;32mfrom\u001b[0m \u001b[0;34m.\u001b[0m\u001b[0m_dist_metrics\u001b[0m \u001b[0;32mimport\u001b[0m \u001b[0mDistanceMetric\u001b[0m\u001b[0;34m\u001b[0m\u001b[0;34m\u001b[0m\u001b[0m\n\u001b[1;32m     40\u001b[0m \u001b[0;34m\u001b[0m\u001b[0m\n\u001b[0;32m---> 41\u001b[0;31m \u001b[0;32mfrom\u001b[0m \u001b[0;34m.\u001b[0m \u001b[0;32mimport\u001b[0m \u001b[0mcluster\u001b[0m\u001b[0;34m\u001b[0m\u001b[0;34m\u001b[0m\u001b[0m\n\u001b[0m\u001b[1;32m     42\u001b[0m \u001b[0;32mfrom\u001b[0m \u001b[0;34m.\u001b[0m\u001b[0mcluster\u001b[0m \u001b[0;32mimport\u001b[0m \u001b[0madjusted_mutual_info_score\u001b[0m\u001b[0;34m\u001b[0m\u001b[0;34m\u001b[0m\u001b[0m\n\u001b[1;32m     43\u001b[0m \u001b[0;32mfrom\u001b[0m \u001b[0;34m.\u001b[0m\u001b[0mcluster\u001b[0m \u001b[0;32mimport\u001b[0m \u001b[0madjusted_rand_score\u001b[0m\u001b[0;34m\u001b[0m\u001b[0;34m\u001b[0m\u001b[0m\n",
      "\u001b[0;32m~/opt/anaconda3/lib/python3.9/site-packages/sklearn/metrics/cluster/__init__.py\u001b[0m in \u001b[0;36m<module>\u001b[0;34m\u001b[0m\n\u001b[1;32m     20\u001b[0m \u001b[0;32mfrom\u001b[0m \u001b[0;34m.\u001b[0m\u001b[0m_supervised\u001b[0m \u001b[0;32mimport\u001b[0m \u001b[0mfowlkes_mallows_score\u001b[0m\u001b[0;34m\u001b[0m\u001b[0;34m\u001b[0m\u001b[0m\n\u001b[1;32m     21\u001b[0m \u001b[0;32mfrom\u001b[0m \u001b[0;34m.\u001b[0m\u001b[0m_supervised\u001b[0m \u001b[0;32mimport\u001b[0m \u001b[0mentropy\u001b[0m\u001b[0;34m\u001b[0m\u001b[0;34m\u001b[0m\u001b[0m\n\u001b[0;32m---> 22\u001b[0;31m \u001b[0;32mfrom\u001b[0m \u001b[0;34m.\u001b[0m\u001b[0m_unsupervised\u001b[0m \u001b[0;32mimport\u001b[0m \u001b[0msilhouette_samples\u001b[0m\u001b[0;34m\u001b[0m\u001b[0;34m\u001b[0m\u001b[0m\n\u001b[0m\u001b[1;32m     23\u001b[0m \u001b[0;32mfrom\u001b[0m \u001b[0;34m.\u001b[0m\u001b[0m_unsupervised\u001b[0m \u001b[0;32mimport\u001b[0m \u001b[0msilhouette_score\u001b[0m\u001b[0;34m\u001b[0m\u001b[0;34m\u001b[0m\u001b[0m\n\u001b[1;32m     24\u001b[0m \u001b[0;32mfrom\u001b[0m \u001b[0;34m.\u001b[0m\u001b[0m_unsupervised\u001b[0m \u001b[0;32mimport\u001b[0m \u001b[0mcalinski_harabasz_score\u001b[0m\u001b[0;34m\u001b[0m\u001b[0;34m\u001b[0m\u001b[0m\n",
      "\u001b[0;32m~/opt/anaconda3/lib/python3.9/site-packages/sklearn/metrics/cluster/_unsupervised.py\u001b[0m in \u001b[0;36m<module>\u001b[0;34m\u001b[0m\n\u001b[1;32m     14\u001b[0m \u001b[0;32mfrom\u001b[0m \u001b[0;34m...\u001b[0m\u001b[0mutils\u001b[0m \u001b[0;32mimport\u001b[0m \u001b[0mcheck_X_y\u001b[0m\u001b[0;34m\u001b[0m\u001b[0;34m\u001b[0m\u001b[0m\n\u001b[1;32m     15\u001b[0m \u001b[0;32mfrom\u001b[0m \u001b[0;34m...\u001b[0m\u001b[0mutils\u001b[0m \u001b[0;32mimport\u001b[0m \u001b[0m_safe_indexing\u001b[0m\u001b[0;34m\u001b[0m\u001b[0;34m\u001b[0m\u001b[0m\n\u001b[0;32m---> 16\u001b[0;31m \u001b[0;32mfrom\u001b[0m \u001b[0;34m.\u001b[0m\u001b[0;34m.\u001b[0m\u001b[0mpairwise\u001b[0m \u001b[0;32mimport\u001b[0m \u001b[0mpairwise_distances_chunked\u001b[0m\u001b[0;34m\u001b[0m\u001b[0;34m\u001b[0m\u001b[0m\n\u001b[0m\u001b[1;32m     17\u001b[0m \u001b[0;32mfrom\u001b[0m \u001b[0;34m.\u001b[0m\u001b[0;34m.\u001b[0m\u001b[0mpairwise\u001b[0m \u001b[0;32mimport\u001b[0m \u001b[0mpairwise_distances\u001b[0m\u001b[0;34m\u001b[0m\u001b[0;34m\u001b[0m\u001b[0m\n\u001b[1;32m     18\u001b[0m \u001b[0;32mfrom\u001b[0m \u001b[0;34m...\u001b[0m\u001b[0mpreprocessing\u001b[0m \u001b[0;32mimport\u001b[0m \u001b[0mLabelEncoder\u001b[0m\u001b[0;34m\u001b[0m\u001b[0;34m\u001b[0m\u001b[0m\n",
      "\u001b[0;32m~/opt/anaconda3/lib/python3.9/site-packages/sklearn/metrics/pairwise.py\u001b[0m in \u001b[0;36m<module>\u001b[0;34m\u001b[0m\n\u001b[1;32m     31\u001b[0m \u001b[0;32mfrom\u001b[0m \u001b[0;34m.\u001b[0m\u001b[0;34m.\u001b[0m\u001b[0mutils\u001b[0m\u001b[0;34m.\u001b[0m\u001b[0mfixes\u001b[0m \u001b[0;32mimport\u001b[0m \u001b[0msp_version\u001b[0m\u001b[0;34m,\u001b[0m \u001b[0mparse_version\u001b[0m\u001b[0;34m\u001b[0m\u001b[0;34m\u001b[0m\u001b[0m\n\u001b[1;32m     32\u001b[0m \u001b[0;34m\u001b[0m\u001b[0m\n\u001b[0;32m---> 33\u001b[0;31m \u001b[0;32mfrom\u001b[0m \u001b[0;34m.\u001b[0m\u001b[0m_pairwise_distances_reduction\u001b[0m \u001b[0;32mimport\u001b[0m \u001b[0mPairwiseDistancesArgKmin\u001b[0m\u001b[0;34m\u001b[0m\u001b[0;34m\u001b[0m\u001b[0m\n\u001b[0m\u001b[1;32m     34\u001b[0m \u001b[0;32mfrom\u001b[0m \u001b[0;34m.\u001b[0m\u001b[0m_pairwise_fast\u001b[0m \u001b[0;32mimport\u001b[0m \u001b[0m_chi2_kernel_fast\u001b[0m\u001b[0;34m,\u001b[0m \u001b[0m_sparse_manhattan\u001b[0m\u001b[0;34m\u001b[0m\u001b[0;34m\u001b[0m\u001b[0m\n\u001b[1;32m     35\u001b[0m \u001b[0;32mfrom\u001b[0m \u001b[0;34m.\u001b[0m\u001b[0;34m.\u001b[0m\u001b[0mexceptions\u001b[0m \u001b[0;32mimport\u001b[0m \u001b[0mDataConversionWarning\u001b[0m\u001b[0;34m\u001b[0m\u001b[0;34m\u001b[0m\u001b[0m\n",
      "\u001b[0;32m~/opt/anaconda3/lib/python3.9/site-packages/sklearn/metrics/_pairwise_distances_reduction/__init__.py\u001b[0m in \u001b[0;36m<module>\u001b[0;34m\u001b[0m\n\u001b[1;32m     87\u001b[0m \u001b[0;34m\u001b[0m\u001b[0m\n\u001b[1;32m     88\u001b[0m \u001b[0;34m\u001b[0m\u001b[0m\n\u001b[0;32m---> 89\u001b[0;31m from ._dispatcher import (\n\u001b[0m\u001b[1;32m     90\u001b[0m     \u001b[0mArgKmin\u001b[0m\u001b[0;34m,\u001b[0m\u001b[0;34m\u001b[0m\u001b[0;34m\u001b[0m\u001b[0m\n\u001b[1;32m     91\u001b[0m     \u001b[0mArgKminClassMode\u001b[0m\u001b[0;34m,\u001b[0m\u001b[0;34m\u001b[0m\u001b[0;34m\u001b[0m\u001b[0m\n",
      "\u001b[0;32m~/opt/anaconda3/lib/python3.9/site-packages/sklearn/metrics/_pairwise_distances_reduction/_dispatcher.py\u001b[0m in \u001b[0;36m<module>\u001b[0;34m\u001b[0m\n\u001b[1;32m      6\u001b[0m \u001b[0;34m\u001b[0m\u001b[0m\n\u001b[1;32m      7\u001b[0m \u001b[0;32mfrom\u001b[0m \u001b[0;34m...\u001b[0m \u001b[0;32mimport\u001b[0m \u001b[0mget_config\u001b[0m\u001b[0;34m\u001b[0m\u001b[0;34m\u001b[0m\u001b[0m\n\u001b[0;32m----> 8\u001b[0;31m \u001b[0;32mfrom\u001b[0m \u001b[0;34m.\u001b[0m\u001b[0;34m.\u001b[0m\u001b[0m_dist_metrics\u001b[0m \u001b[0;32mimport\u001b[0m \u001b[0mBOOL_METRICS\u001b[0m\u001b[0;34m,\u001b[0m \u001b[0mMETRIC_MAPPING64\u001b[0m\u001b[0;34m\u001b[0m\u001b[0;34m\u001b[0m\u001b[0m\n\u001b[0m\u001b[1;32m      9\u001b[0m from ._argkmin import (\n\u001b[1;32m     10\u001b[0m     \u001b[0mArgKmin32\u001b[0m\u001b[0;34m,\u001b[0m\u001b[0;34m\u001b[0m\u001b[0;34m\u001b[0m\u001b[0m\n",
      "\u001b[0;31mImportError\u001b[0m: cannot import name 'METRIC_MAPPING64' from 'sklearn.metrics._dist_metrics' (/Users/dan/opt/anaconda3/lib/python3.9/site-packages/sklearn/metrics/_dist_metrics.cpython-39-darwin.so)"
     ]
    }
   ],
   "source": [
    "## Import the libraries\n",
    "import pandas as pd\n",
    "import numpy as np\n",
    "import matplotlib.pyplot as plt\n",
    "import seaborn as sns \n",
    "from sklearn.metrics import mean_squared_error\n",
    "\n",
    "from statsmodels.tsa.arima.model import ARIMA\n",
    "\n",
    "import warnings\n",
    "warnings.simplefilter(\"ignore\")"
   ]
  },
  {
   "cell_type": "code",
   "execution_count": 8,
   "id": "aae373f6",
   "metadata": {},
   "outputs": [
    {
     "data": {
      "text/html": [
       "<div>\n",
       "<style scoped>\n",
       "    .dataframe tbody tr th:only-of-type {\n",
       "        vertical-align: middle;\n",
       "    }\n",
       "\n",
       "    .dataframe tbody tr th {\n",
       "        vertical-align: top;\n",
       "    }\n",
       "\n",
       "    .dataframe thead th {\n",
       "        text-align: right;\n",
       "    }\n",
       "</style>\n",
       "<table border=\"1\" class=\"dataframe\">\n",
       "  <thead>\n",
       "    <tr style=\"text-align: right;\">\n",
       "      <th></th>\n",
       "      <th>2018-12-01 11:40:29 UTC</th>\n",
       "      <th>1924719191579951782</th>\n",
       "      <th>1842195256808833386</th>\n",
       "      <th>1</th>\n",
       "      <th>1806829201890738522</th>\n",
       "      <th>jewelry.earring</th>\n",
       "      <th>0</th>\n",
       "      <th>561.51</th>\n",
       "      <th>1515915625207851155</th>\n",
       "      <th>Unnamed: 9</th>\n",
       "      <th>red</th>\n",
       "      <th>gold</th>\n",
       "      <th>diamond</th>\n",
       "    </tr>\n",
       "  </thead>\n",
       "  <tbody>\n",
       "    <tr>\n",
       "      <th>0</th>\n",
       "      <td>2018-12-01 17:38:31 UTC</td>\n",
       "      <td>1924899396621697920</td>\n",
       "      <td>1806829193678291446</td>\n",
       "      <td>1</td>\n",
       "      <td>1.806829e+18</td>\n",
       "      <td>NaN</td>\n",
       "      <td>NaN</td>\n",
       "      <td>212.14</td>\n",
       "      <td>1.515916e+18</td>\n",
       "      <td>NaN</td>\n",
       "      <td>yellow</td>\n",
       "      <td>gold</td>\n",
       "      <td>NaN</td>\n",
       "    </tr>\n",
       "    <tr>\n",
       "      <th>1</th>\n",
       "      <td>2018-12-02 13:53:42 UTC</td>\n",
       "      <td>1925511016616034733</td>\n",
       "      <td>1842214461889315556</td>\n",
       "      <td>1</td>\n",
       "      <td>1.806829e+18</td>\n",
       "      <td>jewelry.pendant</td>\n",
       "      <td>1.0</td>\n",
       "      <td>54.66</td>\n",
       "      <td>1.515916e+18</td>\n",
       "      <td>f</td>\n",
       "      <td>white</td>\n",
       "      <td>gold</td>\n",
       "      <td>sapphire</td>\n",
       "    </tr>\n",
       "    <tr>\n",
       "      <th>2</th>\n",
       "      <td>2018-12-02 17:44:02 UTC</td>\n",
       "      <td>1925626951238681511</td>\n",
       "      <td>1835566849434059453</td>\n",
       "      <td>1</td>\n",
       "      <td>1.806829e+18</td>\n",
       "      <td>jewelry.pendant</td>\n",
       "      <td>0.0</td>\n",
       "      <td>88.90</td>\n",
       "      <td>1.515916e+18</td>\n",
       "      <td>f</td>\n",
       "      <td>red</td>\n",
       "      <td>gold</td>\n",
       "      <td>diamond</td>\n",
       "    </tr>\n",
       "    <tr>\n",
       "      <th>3</th>\n",
       "      <td>2018-12-02 21:30:19 UTC</td>\n",
       "      <td>1925740842841014667</td>\n",
       "      <td>1873936840742928865</td>\n",
       "      <td>1</td>\n",
       "      <td>1.806829e+18</td>\n",
       "      <td>jewelry.necklace</td>\n",
       "      <td>0.0</td>\n",
       "      <td>417.67</td>\n",
       "      <td>1.515916e+18</td>\n",
       "      <td>NaN</td>\n",
       "      <td>red</td>\n",
       "      <td>gold</td>\n",
       "      <td>amethyst</td>\n",
       "    </tr>\n",
       "    <tr>\n",
       "      <th>4</th>\n",
       "      <td>2018-12-02 22:09:34 UTC</td>\n",
       "      <td>1925760595336888995</td>\n",
       "      <td>1835566854827934449</td>\n",
       "      <td>1</td>\n",
       "      <td>1.806829e+18</td>\n",
       "      <td>jewelry.earring</td>\n",
       "      <td>1.0</td>\n",
       "      <td>102.27</td>\n",
       "      <td>1.515916e+18</td>\n",
       "      <td>NaN</td>\n",
       "      <td>red</td>\n",
       "      <td>gold</td>\n",
       "      <td>NaN</td>\n",
       "    </tr>\n",
       "  </tbody>\n",
       "</table>\n",
       "</div>"
      ],
      "text/plain": [
       "   2018-12-01 11:40:29 UTC  1924719191579951782  1842195256808833386  1  \\\n",
       "0  2018-12-01 17:38:31 UTC  1924899396621697920  1806829193678291446  1   \n",
       "1  2018-12-02 13:53:42 UTC  1925511016616034733  1842214461889315556  1   \n",
       "2  2018-12-02 17:44:02 UTC  1925626951238681511  1835566849434059453  1   \n",
       "3  2018-12-02 21:30:19 UTC  1925740842841014667  1873936840742928865  1   \n",
       "4  2018-12-02 22:09:34 UTC  1925760595336888995  1835566854827934449  1   \n",
       "\n",
       "   1806829201890738522   jewelry.earring    0  561.51  1515915625207851155  \\\n",
       "0         1.806829e+18               NaN  NaN  212.14         1.515916e+18   \n",
       "1         1.806829e+18   jewelry.pendant  1.0   54.66         1.515916e+18   \n",
       "2         1.806829e+18   jewelry.pendant  0.0   88.90         1.515916e+18   \n",
       "3         1.806829e+18  jewelry.necklace  0.0  417.67         1.515916e+18   \n",
       "4         1.806829e+18   jewelry.earring  1.0  102.27         1.515916e+18   \n",
       "\n",
       "  Unnamed: 9     red  gold   diamond  \n",
       "0        NaN  yellow  gold       NaN  \n",
       "1          f   white  gold  sapphire  \n",
       "2          f     red  gold   diamond  \n",
       "3        NaN     red  gold  amethyst  \n",
       "4        NaN     red  gold       NaN  "
      ]
     },
     "execution_count": 8,
     "metadata": {},
     "output_type": "execute_result"
    }
   ],
   "source": [
    "## Import dataset\n",
    "df=pd.read_csv('jewelry.csv')\n",
    "df.head()"
   ]
  },
  {
   "cell_type": "markdown",
   "id": "240436d4",
   "metadata": {},
   "source": [
    " "
   ]
  },
  {
   "cell_type": "markdown",
   "id": "171664ed",
   "metadata": {},
   "source": [
    "### EDA - Exploratory Data Analysis"
   ]
  },
  {
   "cell_type": "code",
   "execution_count": 9,
   "id": "8f92ce16",
   "metadata": {},
   "outputs": [
    {
     "data": {
      "text/html": [
       "<div>\n",
       "<style scoped>\n",
       "    .dataframe tbody tr th:only-of-type {\n",
       "        vertical-align: middle;\n",
       "    }\n",
       "\n",
       "    .dataframe tbody tr th {\n",
       "        vertical-align: top;\n",
       "    }\n",
       "\n",
       "    .dataframe thead th {\n",
       "        text-align: right;\n",
       "    }\n",
       "</style>\n",
       "<table border=\"1\" class=\"dataframe\">\n",
       "  <thead>\n",
       "    <tr style=\"text-align: right;\">\n",
       "      <th></th>\n",
       "      <th>2018-12-01 11:40:29 UTC</th>\n",
       "      <th>1924719191579951782</th>\n",
       "      <th>1842195256808833386</th>\n",
       "      <th>1</th>\n",
       "      <th>1806829201890738522</th>\n",
       "      <th>jewelry.earring</th>\n",
       "      <th>0</th>\n",
       "      <th>561.51</th>\n",
       "      <th>1515915625207851155</th>\n",
       "      <th>Unnamed: 9</th>\n",
       "      <th>red</th>\n",
       "      <th>gold</th>\n",
       "      <th>diamond</th>\n",
       "    </tr>\n",
       "  </thead>\n",
       "  <tbody>\n",
       "    <tr>\n",
       "      <th>95905</th>\n",
       "      <td>2021-12-01 09:47:37 UTC</td>\n",
       "      <td>2719016587653808559</td>\n",
       "      <td>1515966223597820877</td>\n",
       "      <td>1</td>\n",
       "      <td>NaN</td>\n",
       "      <td>0.00</td>\n",
       "      <td>1.515916e+18</td>\n",
       "      <td>NaN</td>\n",
       "      <td>NaN</td>\n",
       "      <td>NaN</td>\n",
       "      <td>NaN</td>\n",
       "      <td>NaN</td>\n",
       "      <td>NaN</td>\n",
       "    </tr>\n",
       "    <tr>\n",
       "      <th>95906</th>\n",
       "      <td>2021-12-01 09:50:37 UTC</td>\n",
       "      <td>2719018098886705639</td>\n",
       "      <td>1956663830729720074</td>\n",
       "      <td>1</td>\n",
       "      <td>1.806829e+18</td>\n",
       "      <td>NaN</td>\n",
       "      <td>0.000000e+00</td>\n",
       "      <td>229.99</td>\n",
       "      <td>1.515916e+18</td>\n",
       "      <td>NaN</td>\n",
       "      <td>red</td>\n",
       "      <td>gold</td>\n",
       "      <td>NaN</td>\n",
       "    </tr>\n",
       "    <tr>\n",
       "      <th>95907</th>\n",
       "      <td>2021-12-01 09:52:06 UTC</td>\n",
       "      <td>2719018846999544322</td>\n",
       "      <td>1956663848219968336</td>\n",
       "      <td>1</td>\n",
       "      <td>1.806829e+18</td>\n",
       "      <td>jewelry.earring</td>\n",
       "      <td>1.000000e+00</td>\n",
       "      <td>630.00</td>\n",
       "      <td>1.515916e+18</td>\n",
       "      <td>f</td>\n",
       "      <td>white</td>\n",
       "      <td>gold</td>\n",
       "      <td>diamond</td>\n",
       "    </tr>\n",
       "    <tr>\n",
       "      <th>95908</th>\n",
       "      <td>2021-12-01 09:55:35 UTC</td>\n",
       "      <td>2719020596963836492</td>\n",
       "      <td>1835566854106513435</td>\n",
       "      <td>1</td>\n",
       "      <td>1.806829e+18</td>\n",
       "      <td>jewelry.earring</td>\n",
       "      <td>0.000000e+00</td>\n",
       "      <td>83.42</td>\n",
       "      <td>1.515916e+18</td>\n",
       "      <td>NaN</td>\n",
       "      <td>white</td>\n",
       "      <td>gold</td>\n",
       "      <td>fianit</td>\n",
       "    </tr>\n",
       "    <tr>\n",
       "      <th>95909</th>\n",
       "      <td>2021-12-01 09:59:07 UTC</td>\n",
       "      <td>2719022379232658075</td>\n",
       "      <td>1956663846156370429</td>\n",
       "      <td>1</td>\n",
       "      <td>1.806829e+18</td>\n",
       "      <td>jewelry.pendant</td>\n",
       "      <td>1.000000e+00</td>\n",
       "      <td>97.12</td>\n",
       "      <td>1.515916e+18</td>\n",
       "      <td>NaN</td>\n",
       "      <td>red</td>\n",
       "      <td>gold</td>\n",
       "      <td>NaN</td>\n",
       "    </tr>\n",
       "  </tbody>\n",
       "</table>\n",
       "</div>"
      ],
      "text/plain": [
       "       2018-12-01 11:40:29 UTC  1924719191579951782  1842195256808833386  1  \\\n",
       "95905  2021-12-01 09:47:37 UTC  2719016587653808559  1515966223597820877  1   \n",
       "95906  2021-12-01 09:50:37 UTC  2719018098886705639  1956663830729720074  1   \n",
       "95907  2021-12-01 09:52:06 UTC  2719018846999544322  1956663848219968336  1   \n",
       "95908  2021-12-01 09:55:35 UTC  2719020596963836492  1835566854106513435  1   \n",
       "95909  2021-12-01 09:59:07 UTC  2719022379232658075  1956663846156370429  1   \n",
       "\n",
       "       1806829201890738522  jewelry.earring             0  561.51  \\\n",
       "95905                  NaN             0.00  1.515916e+18     NaN   \n",
       "95906         1.806829e+18              NaN  0.000000e+00  229.99   \n",
       "95907         1.806829e+18  jewelry.earring  1.000000e+00  630.00   \n",
       "95908         1.806829e+18  jewelry.earring  0.000000e+00   83.42   \n",
       "95909         1.806829e+18  jewelry.pendant  1.000000e+00   97.12   \n",
       "\n",
       "       1515915625207851155 Unnamed: 9    red  gold  diamond  \n",
       "95905                  NaN        NaN    NaN   NaN      NaN  \n",
       "95906         1.515916e+18        NaN    red  gold      NaN  \n",
       "95907         1.515916e+18          f  white  gold  diamond  \n",
       "95908         1.515916e+18        NaN  white  gold   fianit  \n",
       "95909         1.515916e+18        NaN    red  gold      NaN  "
      ]
     },
     "execution_count": 9,
     "metadata": {},
     "output_type": "execute_result"
    }
   ],
   "source": [
    "df.tail()"
   ]
  },
  {
   "cell_type": "code",
   "execution_count": 10,
   "id": "3afeb28c",
   "metadata": {},
   "outputs": [
    {
     "data": {
      "text/plain": [
       "2018-12-01 11:40:29 UTC        0\n",
       "1924719191579951782            0\n",
       "1842195256808833386            0\n",
       "1                              0\n",
       "1806829201890738522         5352\n",
       "jewelry.earring             9933\n",
       "0                           4785\n",
       "561.51                      5352\n",
       "1515915625207851155         5352\n",
       "Unnamed: 9                 48167\n",
       "red                         7660\n",
       "gold                        5462\n",
       "diamond                    34058\n",
       "dtype: int64"
      ]
     },
     "execution_count": 10,
     "metadata": {},
     "output_type": "execute_result"
    }
   ],
   "source": [
    "df.isnull().sum()"
   ]
  },
  {
   "cell_type": "code",
   "execution_count": 11,
   "id": "e7d3e6f3",
   "metadata": {},
   "outputs": [
    {
     "data": {
      "text/plain": [
       "(95910, 13)"
      ]
     },
     "execution_count": 11,
     "metadata": {},
     "output_type": "execute_result"
    }
   ],
   "source": [
    "# Checking dataset dimension\n",
    "df.shape"
   ]
  },
  {
   "cell_type": "code",
   "execution_count": 12,
   "id": "b380e9b0",
   "metadata": {},
   "outputs": [
    {
     "name": "stdout",
     "output_type": "stream",
     "text": [
      "<class 'pandas.core.frame.DataFrame'>\n",
      "RangeIndex: 95910 entries, 0 to 95909\n",
      "Data columns (total 13 columns):\n",
      " #   Column                   Non-Null Count  Dtype  \n",
      "---  ------                   --------------  -----  \n",
      " 0   2018-12-01 11:40:29 UTC  95910 non-null  object \n",
      " 1   1924719191579951782      95910 non-null  int64  \n",
      " 2   1842195256808833386      95910 non-null  int64  \n",
      " 3   1                        95910 non-null  int64  \n",
      " 4   1806829201890738522      90558 non-null  float64\n",
      " 5   jewelry.earring          85977 non-null  object \n",
      " 6   0                        91125 non-null  float64\n",
      " 7   561.51                   90558 non-null  float64\n",
      " 8   1515915625207851155      90558 non-null  float64\n",
      " 9   Unnamed: 9               47743 non-null  object \n",
      " 10  red                      88250 non-null  object \n",
      " 11  gold                     90448 non-null  object \n",
      " 12  diamond                  61852 non-null  object \n",
      "dtypes: float64(4), int64(3), object(6)\n",
      "memory usage: 9.5+ MB\n"
     ]
    }
   ],
   "source": [
    "# check dataset column type\n",
    "df.info()"
   ]
  },
  {
   "cell_type": "code",
   "execution_count": 13,
   "id": "7c150349",
   "metadata": {},
   "outputs": [],
   "source": [
    "df.head()\n",
    "#no columns, add columns\n",
    "columns = ['order_date','order_id','user_id','purchase','category_id','category','brand','price','price_id','buyer','colour1','colour2','type']\n",
    "df.columns = columns"
   ]
  },
  {
   "cell_type": "code",
   "execution_count": 14,
   "id": "2c35acbe",
   "metadata": {},
   "outputs": [
    {
     "data": {
      "text/html": [
       "<div>\n",
       "<style scoped>\n",
       "    .dataframe tbody tr th:only-of-type {\n",
       "        vertical-align: middle;\n",
       "    }\n",
       "\n",
       "    .dataframe tbody tr th {\n",
       "        vertical-align: top;\n",
       "    }\n",
       "\n",
       "    .dataframe thead th {\n",
       "        text-align: right;\n",
       "    }\n",
       "</style>\n",
       "<table border=\"1\" class=\"dataframe\">\n",
       "  <thead>\n",
       "    <tr style=\"text-align: right;\">\n",
       "      <th></th>\n",
       "      <th>order_date</th>\n",
       "      <th>order_id</th>\n",
       "      <th>user_id</th>\n",
       "      <th>purchase</th>\n",
       "      <th>category_id</th>\n",
       "      <th>category</th>\n",
       "      <th>brand</th>\n",
       "      <th>price</th>\n",
       "      <th>price_id</th>\n",
       "      <th>buyer</th>\n",
       "      <th>colour1</th>\n",
       "      <th>colour2</th>\n",
       "      <th>type</th>\n",
       "    </tr>\n",
       "  </thead>\n",
       "  <tbody>\n",
       "    <tr>\n",
       "      <th>0</th>\n",
       "      <td>2018-12-01 17:38:31 UTC</td>\n",
       "      <td>1924899396621697920</td>\n",
       "      <td>1806829193678291446</td>\n",
       "      <td>1</td>\n",
       "      <td>1.806829e+18</td>\n",
       "      <td>NaN</td>\n",
       "      <td>NaN</td>\n",
       "      <td>212.14</td>\n",
       "      <td>1.515916e+18</td>\n",
       "      <td>NaN</td>\n",
       "      <td>yellow</td>\n",
       "      <td>gold</td>\n",
       "      <td>NaN</td>\n",
       "    </tr>\n",
       "    <tr>\n",
       "      <th>1</th>\n",
       "      <td>2018-12-02 13:53:42 UTC</td>\n",
       "      <td>1925511016616034733</td>\n",
       "      <td>1842214461889315556</td>\n",
       "      <td>1</td>\n",
       "      <td>1.806829e+18</td>\n",
       "      <td>jewelry.pendant</td>\n",
       "      <td>1.0</td>\n",
       "      <td>54.66</td>\n",
       "      <td>1.515916e+18</td>\n",
       "      <td>f</td>\n",
       "      <td>white</td>\n",
       "      <td>gold</td>\n",
       "      <td>sapphire</td>\n",
       "    </tr>\n",
       "    <tr>\n",
       "      <th>2</th>\n",
       "      <td>2018-12-02 17:44:02 UTC</td>\n",
       "      <td>1925626951238681511</td>\n",
       "      <td>1835566849434059453</td>\n",
       "      <td>1</td>\n",
       "      <td>1.806829e+18</td>\n",
       "      <td>jewelry.pendant</td>\n",
       "      <td>0.0</td>\n",
       "      <td>88.90</td>\n",
       "      <td>1.515916e+18</td>\n",
       "      <td>f</td>\n",
       "      <td>red</td>\n",
       "      <td>gold</td>\n",
       "      <td>diamond</td>\n",
       "    </tr>\n",
       "    <tr>\n",
       "      <th>3</th>\n",
       "      <td>2018-12-02 21:30:19 UTC</td>\n",
       "      <td>1925740842841014667</td>\n",
       "      <td>1873936840742928865</td>\n",
       "      <td>1</td>\n",
       "      <td>1.806829e+18</td>\n",
       "      <td>jewelry.necklace</td>\n",
       "      <td>0.0</td>\n",
       "      <td>417.67</td>\n",
       "      <td>1.515916e+18</td>\n",
       "      <td>NaN</td>\n",
       "      <td>red</td>\n",
       "      <td>gold</td>\n",
       "      <td>amethyst</td>\n",
       "    </tr>\n",
       "    <tr>\n",
       "      <th>4</th>\n",
       "      <td>2018-12-02 22:09:34 UTC</td>\n",
       "      <td>1925760595336888995</td>\n",
       "      <td>1835566854827934449</td>\n",
       "      <td>1</td>\n",
       "      <td>1.806829e+18</td>\n",
       "      <td>jewelry.earring</td>\n",
       "      <td>1.0</td>\n",
       "      <td>102.27</td>\n",
       "      <td>1.515916e+18</td>\n",
       "      <td>NaN</td>\n",
       "      <td>red</td>\n",
       "      <td>gold</td>\n",
       "      <td>NaN</td>\n",
       "    </tr>\n",
       "  </tbody>\n",
       "</table>\n",
       "</div>"
      ],
      "text/plain": [
       "                order_date             order_id              user_id  \\\n",
       "0  2018-12-01 17:38:31 UTC  1924899396621697920  1806829193678291446   \n",
       "1  2018-12-02 13:53:42 UTC  1925511016616034733  1842214461889315556   \n",
       "2  2018-12-02 17:44:02 UTC  1925626951238681511  1835566849434059453   \n",
       "3  2018-12-02 21:30:19 UTC  1925740842841014667  1873936840742928865   \n",
       "4  2018-12-02 22:09:34 UTC  1925760595336888995  1835566854827934449   \n",
       "\n",
       "   purchase   category_id          category  brand   price      price_id  \\\n",
       "0         1  1.806829e+18               NaN    NaN  212.14  1.515916e+18   \n",
       "1         1  1.806829e+18   jewelry.pendant    1.0   54.66  1.515916e+18   \n",
       "2         1  1.806829e+18   jewelry.pendant    0.0   88.90  1.515916e+18   \n",
       "3         1  1.806829e+18  jewelry.necklace    0.0  417.67  1.515916e+18   \n",
       "4         1  1.806829e+18   jewelry.earring    1.0  102.27  1.515916e+18   \n",
       "\n",
       "  buyer colour1 colour2      type  \n",
       "0   NaN  yellow    gold       NaN  \n",
       "1     f   white    gold  sapphire  \n",
       "2     f     red    gold   diamond  \n",
       "3   NaN     red    gold  amethyst  \n",
       "4   NaN     red    gold       NaN  "
      ]
     },
     "execution_count": 14,
     "metadata": {},
     "output_type": "execute_result"
    }
   ],
   "source": [
    "df.head()"
   ]
  },
  {
   "cell_type": "code",
   "execution_count": 15,
   "id": "0566cd84",
   "metadata": {},
   "outputs": [
    {
     "data": {
      "text/plain": [
       "order_date         0\n",
       "order_id           0\n",
       "user_id            0\n",
       "purchase           0\n",
       "category_id     5352\n",
       "category        9933\n",
       "brand           4785\n",
       "price           5352\n",
       "price_id        5352\n",
       "buyer          48167\n",
       "colour1         7660\n",
       "colour2         5462\n",
       "type           34058\n",
       "dtype: int64"
      ]
     },
     "execution_count": 15,
     "metadata": {},
     "output_type": "execute_result"
    }
   ],
   "source": [
    "#Checking for null values in columns\n",
    "\n",
    "df.isnull().sum()"
   ]
  },
  {
   "cell_type": "code",
   "execution_count": 16,
   "id": "604165c5",
   "metadata": {},
   "outputs": [],
   "source": [
    "#dropping columns not needed\n",
    "df.drop(columns=['order_id','category_id','price_id','colour1','colour2'],inplace=True)"
   ]
  },
  {
   "cell_type": "code",
   "execution_count": 17,
   "id": "b16f3271",
   "metadata": {},
   "outputs": [],
   "source": [
    "#try to identify unique entries - check how many unique customers, brands and orders id are there.\n",
    "#need to compare order id's to customers to check whether same customer placed more than 1 order (improvement)\n",
    "\n",
    "unique_entries_dataframe = df.apply(lambda x: x.unique())\n"
   ]
  },
  {
   "cell_type": "code",
   "execution_count": 18,
   "id": "d3c9dc35",
   "metadata": {},
   "outputs": [
    {
     "name": "stdout",
     "output_type": "stream",
     "text": [
      "order_date    [2018-12-01 17:38:31 UTC, 2018-12-02 13:53:42 ...\n",
      "user_id       [1806829193678291446, 1842214461889315556, 183...\n",
      "purchase                                                    [1]\n",
      "category      [nan, jewelry.pendant, jewelry.necklace, jewel...\n",
      "brand         [nan, 1.0, 0.0, 2.0, 4.0, 6.0, 5.0, 3.0, 1.550...\n",
      "price         [212.14, 54.66, 88.9, 417.67, 102.27, 150.55, ...\n",
      "buyer                                               [nan, f, m]\n",
      "type          [nan, sapphire, diamond, amethyst, fianit, pea...\n",
      "dtype: object\n"
     ]
    }
   ],
   "source": [
    "print(unique_entries_dataframe)"
   ]
  },
  {
   "cell_type": "code",
   "execution_count": 19,
   "id": "f7950040",
   "metadata": {},
   "outputs": [],
   "source": [
    "df['price'].fillna(df['price'].mean(), inplace=True)"
   ]
  },
  {
   "cell_type": "code",
   "execution_count": 20,
   "id": "e88ee672",
   "metadata": {},
   "outputs": [
    {
     "data": {
      "text/html": [
       "<div>\n",
       "<style scoped>\n",
       "    .dataframe tbody tr th:only-of-type {\n",
       "        vertical-align: middle;\n",
       "    }\n",
       "\n",
       "    .dataframe tbody tr th {\n",
       "        vertical-align: top;\n",
       "    }\n",
       "\n",
       "    .dataframe thead th {\n",
       "        text-align: right;\n",
       "    }\n",
       "</style>\n",
       "<table border=\"1\" class=\"dataframe\">\n",
       "  <thead>\n",
       "    <tr style=\"text-align: right;\">\n",
       "      <th></th>\n",
       "      <th>order_date</th>\n",
       "      <th>user_id</th>\n",
       "      <th>purchase</th>\n",
       "      <th>category</th>\n",
       "      <th>brand</th>\n",
       "      <th>price</th>\n",
       "      <th>buyer</th>\n",
       "      <th>type</th>\n",
       "    </tr>\n",
       "  </thead>\n",
       "  <tbody>\n",
       "    <tr>\n",
       "      <th>0</th>\n",
       "      <td>2018-12-01 17:38:31 UTC</td>\n",
       "      <td>1806829193678291446</td>\n",
       "      <td>1</td>\n",
       "      <td>NaN</td>\n",
       "      <td>NaN</td>\n",
       "      <td>212.14</td>\n",
       "      <td>NaN</td>\n",
       "      <td>NaN</td>\n",
       "    </tr>\n",
       "    <tr>\n",
       "      <th>1</th>\n",
       "      <td>2018-12-02 13:53:42 UTC</td>\n",
       "      <td>1842214461889315556</td>\n",
       "      <td>1</td>\n",
       "      <td>jewelry.pendant</td>\n",
       "      <td>1.0</td>\n",
       "      <td>54.66</td>\n",
       "      <td>f</td>\n",
       "      <td>sapphire</td>\n",
       "    </tr>\n",
       "    <tr>\n",
       "      <th>2</th>\n",
       "      <td>2018-12-02 17:44:02 UTC</td>\n",
       "      <td>1835566849434059453</td>\n",
       "      <td>1</td>\n",
       "      <td>jewelry.pendant</td>\n",
       "      <td>0.0</td>\n",
       "      <td>88.90</td>\n",
       "      <td>f</td>\n",
       "      <td>diamond</td>\n",
       "    </tr>\n",
       "    <tr>\n",
       "      <th>3</th>\n",
       "      <td>2018-12-02 21:30:19 UTC</td>\n",
       "      <td>1873936840742928865</td>\n",
       "      <td>1</td>\n",
       "      <td>jewelry.necklace</td>\n",
       "      <td>0.0</td>\n",
       "      <td>417.67</td>\n",
       "      <td>NaN</td>\n",
       "      <td>amethyst</td>\n",
       "    </tr>\n",
       "    <tr>\n",
       "      <th>4</th>\n",
       "      <td>2018-12-02 22:09:34 UTC</td>\n",
       "      <td>1835566854827934449</td>\n",
       "      <td>1</td>\n",
       "      <td>jewelry.earring</td>\n",
       "      <td>1.0</td>\n",
       "      <td>102.27</td>\n",
       "      <td>NaN</td>\n",
       "      <td>NaN</td>\n",
       "    </tr>\n",
       "  </tbody>\n",
       "</table>\n",
       "</div>"
      ],
      "text/plain": [
       "                order_date              user_id  purchase          category  \\\n",
       "0  2018-12-01 17:38:31 UTC  1806829193678291446         1               NaN   \n",
       "1  2018-12-02 13:53:42 UTC  1842214461889315556         1   jewelry.pendant   \n",
       "2  2018-12-02 17:44:02 UTC  1835566849434059453         1   jewelry.pendant   \n",
       "3  2018-12-02 21:30:19 UTC  1873936840742928865         1  jewelry.necklace   \n",
       "4  2018-12-02 22:09:34 UTC  1835566854827934449         1   jewelry.earring   \n",
       "\n",
       "   brand   price buyer      type  \n",
       "0    NaN  212.14   NaN       NaN  \n",
       "1    1.0   54.66     f  sapphire  \n",
       "2    0.0   88.90     f   diamond  \n",
       "3    0.0  417.67   NaN  amethyst  \n",
       "4    1.0  102.27   NaN       NaN  "
      ]
     },
     "execution_count": 20,
     "metadata": {},
     "output_type": "execute_result"
    }
   ],
   "source": [
    "df.head()"
   ]
  },
  {
   "cell_type": "markdown",
   "id": "d702a4bb",
   "metadata": {},
   "source": [
    " "
   ]
  },
  {
   "cell_type": "code",
   "execution_count": 21,
   "id": "4e8fb30a",
   "metadata": {},
   "outputs": [
    {
     "name": "stdout",
     "output_type": "stream",
     "text": [
      "0       2018-12-01 17:38:31\n",
      "1       2018-12-02 13:53:42\n",
      "2       2018-12-02 17:44:02\n",
      "3       2018-12-02 21:30:19\n",
      "4       2018-12-02 22:09:34\n",
      "                ...        \n",
      "95905   2021-12-01 09:47:37\n",
      "95906   2021-12-01 09:50:37\n",
      "95907   2021-12-01 09:52:06\n",
      "95908   2021-12-01 09:55:35\n",
      "95909   2021-12-01 09:59:07\n",
      "Name: order_date, Length: 95910, dtype: datetime64[ns]\n"
     ]
    }
   ],
   "source": [
    "## treating date format on dataset to use as index, so we convert this in date format\n",
    "from datetime import datetime, timedelta, timezone\n",
    "\n",
    "df['order_date'] = pd.to_datetime(df['order_date'])\n",
    "\n",
    "# Split timezone from datetime\n",
    "df['order_date'] = df['order_date'].dt.tz_localize(None)\n",
    "\n",
    "# Print the modified DataFrame\n",
    "print(df.order_date)\n"
   ]
  },
  {
   "cell_type": "code",
   "execution_count": 22,
   "id": "61713ec2",
   "metadata": {},
   "outputs": [
    {
     "data": {
      "text/html": [
       "<div>\n",
       "<style scoped>\n",
       "    .dataframe tbody tr th:only-of-type {\n",
       "        vertical-align: middle;\n",
       "    }\n",
       "\n",
       "    .dataframe tbody tr th {\n",
       "        vertical-align: top;\n",
       "    }\n",
       "\n",
       "    .dataframe thead th {\n",
       "        text-align: right;\n",
       "    }\n",
       "</style>\n",
       "<table border=\"1\" class=\"dataframe\">\n",
       "  <thead>\n",
       "    <tr style=\"text-align: right;\">\n",
       "      <th></th>\n",
       "      <th>user_id</th>\n",
       "      <th>purchase</th>\n",
       "      <th>category</th>\n",
       "      <th>brand</th>\n",
       "      <th>price</th>\n",
       "      <th>buyer</th>\n",
       "      <th>type</th>\n",
       "    </tr>\n",
       "    <tr>\n",
       "      <th>order_date</th>\n",
       "      <th></th>\n",
       "      <th></th>\n",
       "      <th></th>\n",
       "      <th></th>\n",
       "      <th></th>\n",
       "      <th></th>\n",
       "      <th></th>\n",
       "    </tr>\n",
       "  </thead>\n",
       "  <tbody>\n",
       "    <tr>\n",
       "      <th>2018-12-01 17:38:31</th>\n",
       "      <td>1806829193678291446</td>\n",
       "      <td>1</td>\n",
       "      <td>NaN</td>\n",
       "      <td>NaN</td>\n",
       "      <td>212.14</td>\n",
       "      <td>NaN</td>\n",
       "      <td>NaN</td>\n",
       "    </tr>\n",
       "    <tr>\n",
       "      <th>2018-12-02 13:53:42</th>\n",
       "      <td>1842214461889315556</td>\n",
       "      <td>1</td>\n",
       "      <td>jewelry.pendant</td>\n",
       "      <td>1.0</td>\n",
       "      <td>54.66</td>\n",
       "      <td>f</td>\n",
       "      <td>sapphire</td>\n",
       "    </tr>\n",
       "    <tr>\n",
       "      <th>2018-12-02 17:44:02</th>\n",
       "      <td>1835566849434059453</td>\n",
       "      <td>1</td>\n",
       "      <td>jewelry.pendant</td>\n",
       "      <td>0.0</td>\n",
       "      <td>88.90</td>\n",
       "      <td>f</td>\n",
       "      <td>diamond</td>\n",
       "    </tr>\n",
       "    <tr>\n",
       "      <th>2018-12-02 21:30:19</th>\n",
       "      <td>1873936840742928865</td>\n",
       "      <td>1</td>\n",
       "      <td>jewelry.necklace</td>\n",
       "      <td>0.0</td>\n",
       "      <td>417.67</td>\n",
       "      <td>NaN</td>\n",
       "      <td>amethyst</td>\n",
       "    </tr>\n",
       "    <tr>\n",
       "      <th>2018-12-02 22:09:34</th>\n",
       "      <td>1835566854827934449</td>\n",
       "      <td>1</td>\n",
       "      <td>jewelry.earring</td>\n",
       "      <td>1.0</td>\n",
       "      <td>102.27</td>\n",
       "      <td>NaN</td>\n",
       "      <td>NaN</td>\n",
       "    </tr>\n",
       "  </tbody>\n",
       "</table>\n",
       "</div>"
      ],
      "text/plain": [
       "                                 user_id  purchase          category  brand  \\\n",
       "order_date                                                                    \n",
       "2018-12-01 17:38:31  1806829193678291446         1               NaN    NaN   \n",
       "2018-12-02 13:53:42  1842214461889315556         1   jewelry.pendant    1.0   \n",
       "2018-12-02 17:44:02  1835566849434059453         1   jewelry.pendant    0.0   \n",
       "2018-12-02 21:30:19  1873936840742928865         1  jewelry.necklace    0.0   \n",
       "2018-12-02 22:09:34  1835566854827934449         1   jewelry.earring    1.0   \n",
       "\n",
       "                      price buyer      type  \n",
       "order_date                                   \n",
       "2018-12-01 17:38:31  212.14   NaN       NaN  \n",
       "2018-12-02 13:53:42   54.66     f  sapphire  \n",
       "2018-12-02 17:44:02   88.90     f   diamond  \n",
       "2018-12-02 21:30:19  417.67   NaN  amethyst  \n",
       "2018-12-02 22:09:34  102.27   NaN       NaN  "
      ]
     },
     "execution_count": 22,
     "metadata": {},
     "output_type": "execute_result"
    }
   ],
   "source": [
    "##set date column as index\n",
    "df=df.set_index('order_date')\n",
    "df.head()"
   ]
  },
  {
   "cell_type": "code",
   "execution_count": 23,
   "id": "c9666297",
   "metadata": {},
   "outputs": [
    {
     "name": "stdout",
     "output_type": "stream",
     "text": [
      "<class 'pandas.core.frame.DataFrame'>\n",
      "DatetimeIndex: 95910 entries, 2018-12-01 17:38:31 to 2021-12-01 09:59:07\n",
      "Data columns (total 7 columns):\n",
      " #   Column    Non-Null Count  Dtype  \n",
      "---  ------    --------------  -----  \n",
      " 0   user_id   95910 non-null  int64  \n",
      " 1   purchase  95910 non-null  int64  \n",
      " 2   category  85977 non-null  object \n",
      " 3   brand     91125 non-null  float64\n",
      " 4   price     95910 non-null  float64\n",
      " 5   buyer     47743 non-null  object \n",
      " 6   type      61852 non-null  object \n",
      "dtypes: float64(2), int64(2), object(3)\n",
      "memory usage: 5.9+ MB\n"
     ]
    }
   ],
   "source": [
    "df.info()"
   ]
  },
  {
   "cell_type": "markdown",
   "id": "8aad43d8",
   "metadata": {},
   "source": [
    " "
   ]
  },
  {
   "cell_type": "markdown",
   "id": "3056a262",
   "metadata": {},
   "source": [
    "**a)** Apply an appropriate Box-Jenkins model to the chosen dataset (ARMA, ARIMA, SARIMA, etc). Check for model adequacy. "
   ]
  },
  {
   "cell_type": "markdown",
   "id": "457b006c",
   "metadata": {},
   "source": [
    "# ARIMA"
   ]
  },
  {
   "cell_type": "markdown",
   "id": "d260c62e",
   "metadata": {},
   "source": [
    "### Analysis on price attribute"
   ]
  },
  {
   "cell_type": "code",
   "execution_count": 24,
   "id": "6a51f6b0",
   "metadata": {},
   "outputs": [
    {
     "name": "stderr",
     "output_type": "stream",
     "text": [
      "/Users/dan/opt/anaconda3/lib/python3.9/site-packages/statsmodels/tsa/base/tsa_model.py:473: ValueWarning: A date index has been provided, but it has no associated frequency information and so will be ignored when e.g. forecasting.\n",
      "  self._init_dates(dates, freq)\n",
      "/Users/dan/opt/anaconda3/lib/python3.9/site-packages/statsmodels/tsa/base/tsa_model.py:473: ValueWarning: A date index has been provided, but it has no associated frequency information and so will be ignored when e.g. forecasting.\n",
      "  self._init_dates(dates, freq)\n",
      "/Users/dan/opt/anaconda3/lib/python3.9/site-packages/statsmodels/tsa/base/tsa_model.py:473: ValueWarning: A date index has been provided, but it has no associated frequency information and so will be ignored when e.g. forecasting.\n",
      "  self._init_dates(dates, freq)\n"
     ]
    }
   ],
   "source": [
    "## create a ARIMA model\n",
    "from statsmodels.tsa.arima.model import ARIMA\n",
    "\n",
    "model_ARIMA=ARIMA(df['price'],order=(1,0,2))"
   ]
  },
  {
   "cell_type": "code",
   "execution_count": 25,
   "id": "4f9949d1",
   "metadata": {
    "scrolled": true
   },
   "outputs": [
    {
     "data": {
      "text/html": [
       "<table class=\"simpletable\">\n",
       "<caption>SARIMAX Results</caption>\n",
       "<tr>\n",
       "  <th>Dep. Variable:</th>         <td>price</td>      <th>  No. Observations:  </th>    <td>95910</td>   \n",
       "</tr>\n",
       "<tr>\n",
       "  <th>Model:</th>            <td>ARIMA(1, 0, 2)</td>  <th>  Log Likelihood     </th> <td>-717282.499</td>\n",
       "</tr>\n",
       "<tr>\n",
       "  <th>Date:</th>            <td>Thu, 30 Nov 2023</td> <th>  AIC                </th> <td>1434574.998</td>\n",
       "</tr>\n",
       "<tr>\n",
       "  <th>Time:</th>                <td>22:02:49</td>     <th>  BIC                </th> <td>1434622.354</td>\n",
       "</tr>\n",
       "<tr>\n",
       "  <th>Sample:</th>                  <td>0</td>        <th>  HQIC               </th> <td>1434589.397</td>\n",
       "</tr>\n",
       "<tr>\n",
       "  <th></th>                     <td> - 95910</td>     <th>                     </th>      <td> </td>     \n",
       "</tr>\n",
       "<tr>\n",
       "  <th>Covariance Type:</th>        <td>opg</td>       <th>                     </th>      <td> </td>     \n",
       "</tr>\n",
       "</table>\n",
       "<table class=\"simpletable\">\n",
       "<tr>\n",
       "     <td></td>       <th>coef</th>     <th>std err</th>      <th>z</th>      <th>P>|z|</th>  <th>[0.025</th>    <th>0.975]</th>  \n",
       "</tr>\n",
       "<tr>\n",
       "  <th>const</th>  <td>  362.2125</td> <td>   10.185</td> <td>   35.564</td> <td> 0.000</td> <td>  342.250</td> <td>  382.175</td>\n",
       "</tr>\n",
       "<tr>\n",
       "  <th>ar.L1</th>  <td>    0.9997</td> <td>    0.000</td> <td> 9576.014</td> <td> 0.000</td> <td>    0.999</td> <td>    1.000</td>\n",
       "</tr>\n",
       "<tr>\n",
       "  <th>ma.L1</th>  <td>   -0.9053</td> <td>    0.001</td> <td> -934.625</td> <td> 0.000</td> <td>   -0.907</td> <td>   -0.903</td>\n",
       "</tr>\n",
       "<tr>\n",
       "  <th>ma.L2</th>  <td>   -0.0928</td> <td>    0.001</td> <td>  -93.498</td> <td> 0.000</td> <td>   -0.095</td> <td>   -0.091</td>\n",
       "</tr>\n",
       "<tr>\n",
       "  <th>sigma2</th> <td> 1.834e+05</td> <td>   44.581</td> <td> 4114.273</td> <td> 0.000</td> <td> 1.83e+05</td> <td> 1.84e+05</td>\n",
       "</tr>\n",
       "</table>\n",
       "<table class=\"simpletable\">\n",
       "<tr>\n",
       "  <th>Ljung-Box (L1) (Q):</th>     <td>0.99</td> <th>  Jarque-Bera (JB):  </th> <td>5299852797.67</td>\n",
       "</tr>\n",
       "<tr>\n",
       "  <th>Prob(Q):</th>                <td>0.32</td> <th>  Prob(JB):          </th>     <td>0.00</td>     \n",
       "</tr>\n",
       "<tr>\n",
       "  <th>Heteroskedasticity (H):</th> <td>1.41</td> <th>  Skew:              </th>     <td>19.85</td>    \n",
       "</tr>\n",
       "<tr>\n",
       "  <th>Prob(H) (two-sided):</th>    <td>0.00</td> <th>  Kurtosis:          </th>    <td>1153.93</td>   \n",
       "</tr>\n",
       "</table><br/><br/>Warnings:<br/>[1] Covariance matrix calculated using the outer product of gradients (complex-step)."
      ],
      "text/latex": [
       "\\begin{center}\n",
       "\\begin{tabular}{lclc}\n",
       "\\toprule\n",
       "\\textbf{Dep. Variable:}          &      price       & \\textbf{  No. Observations:  } &     95910      \\\\\n",
       "\\textbf{Model:}                  &  ARIMA(1, 0, 2)  & \\textbf{  Log Likelihood     } &  -717282.499   \\\\\n",
       "\\textbf{Date:}                   & Thu, 30 Nov 2023 & \\textbf{  AIC                } &  1434574.998   \\\\\n",
       "\\textbf{Time:}                   &     22:02:49     & \\textbf{  BIC                } &  1434622.354   \\\\\n",
       "\\textbf{Sample:}                 &        0         & \\textbf{  HQIC               } &  1434589.397   \\\\\n",
       "\\textbf{}                        &      - 95910     & \\textbf{                     } &                \\\\\n",
       "\\textbf{Covariance Type:}        &       opg        & \\textbf{                     } &                \\\\\n",
       "\\bottomrule\n",
       "\\end{tabular}\n",
       "\\begin{tabular}{lcccccc}\n",
       "                & \\textbf{coef} & \\textbf{std err} & \\textbf{z} & \\textbf{P$> |$z$|$} & \\textbf{[0.025} & \\textbf{0.975]}  \\\\\n",
       "\\midrule\n",
       "\\textbf{const}  &     362.2125  &       10.185     &    35.564  &         0.000        &      342.250    &      382.175     \\\\\n",
       "\\textbf{ar.L1}  &       0.9997  &        0.000     &  9576.014  &         0.000        &        0.999    &        1.000     \\\\\n",
       "\\textbf{ma.L1}  &      -0.9053  &        0.001     &  -934.625  &         0.000        &       -0.907    &       -0.903     \\\\\n",
       "\\textbf{ma.L2}  &      -0.0928  &        0.001     &   -93.498  &         0.000        &       -0.095    &       -0.091     \\\\\n",
       "\\textbf{sigma2} &    1.834e+05  &       44.581     &  4114.273  &         0.000        &     1.83e+05    &     1.84e+05     \\\\\n",
       "\\bottomrule\n",
       "\\end{tabular}\n",
       "\\begin{tabular}{lclc}\n",
       "\\textbf{Ljung-Box (L1) (Q):}     & 0.99 & \\textbf{  Jarque-Bera (JB):  } & 5299852797.67  \\\\\n",
       "\\textbf{Prob(Q):}                & 0.32 & \\textbf{  Prob(JB):          } &      0.00      \\\\\n",
       "\\textbf{Heteroskedasticity (H):} & 1.41 & \\textbf{  Skew:              } &     19.85      \\\\\n",
       "\\textbf{Prob(H) (two-sided):}    & 0.00 & \\textbf{  Kurtosis:          } &    1153.93     \\\\\n",
       "\\bottomrule\n",
       "\\end{tabular}\n",
       "%\\caption{SARIMAX Results}\n",
       "\\end{center}\n",
       "\n",
       "Warnings: \\newline\n",
       " [1] Covariance matrix calculated using the outer product of gradients (complex-step)."
      ],
      "text/plain": [
       "<class 'statsmodels.iolib.summary.Summary'>\n",
       "\"\"\"\n",
       "                               SARIMAX Results                                \n",
       "==============================================================================\n",
       "Dep. Variable:                  price   No. Observations:                95910\n",
       "Model:                 ARIMA(1, 0, 2)   Log Likelihood             -717282.499\n",
       "Date:                Thu, 30 Nov 2023   AIC                        1434574.998\n",
       "Time:                        22:02:49   BIC                        1434622.354\n",
       "Sample:                             0   HQIC                       1434589.397\n",
       "                              - 95910                                         \n",
       "Covariance Type:                  opg                                         \n",
       "==============================================================================\n",
       "                 coef    std err          z      P>|z|      [0.025      0.975]\n",
       "------------------------------------------------------------------------------\n",
       "const        362.2125     10.185     35.564      0.000     342.250     382.175\n",
       "ar.L1          0.9997      0.000   9576.014      0.000       0.999       1.000\n",
       "ma.L1         -0.9053      0.001   -934.625      0.000      -0.907      -0.903\n",
       "ma.L2         -0.0928      0.001    -93.498      0.000      -0.095      -0.091\n",
       "sigma2      1.834e+05     44.581   4114.273      0.000    1.83e+05    1.84e+05\n",
       "===================================================================================\n",
       "Ljung-Box (L1) (Q):                   0.99   Jarque-Bera (JB):        5299852797.67\n",
       "Prob(Q):                              0.32   Prob(JB):                         0.00\n",
       "Heteroskedasticity (H):               1.41   Skew:                            19.85\n",
       "Prob(H) (two-sided):                  0.00   Kurtosis:                      1153.93\n",
       "===================================================================================\n",
       "\n",
       "Warnings:\n",
       "[1] Covariance matrix calculated using the outer product of gradients (complex-step).\n",
       "\"\"\""
      ]
     },
     "execution_count": 25,
     "metadata": {},
     "output_type": "execute_result"
    }
   ],
   "source": [
    "model_Arima_fit=model_ARIMA.fit()\n",
    "model_Arima_fit.summary()"
   ]
  },
  {
   "cell_type": "code",
   "execution_count": 26,
   "id": "e359c843",
   "metadata": {},
   "outputs": [
    {
     "name": "stdout",
     "output_type": "stream",
     "text": [
      "2018-12-01 17:38:31\n",
      "2021-12-01 09:59:07\n"
     ]
    }
   ],
   "source": [
    "##prediction\n",
    "pred_start_date=df.index[0]\n",
    "pred_end_date=df.index[-1]\n",
    "print(pred_start_date)\n",
    "print(pred_end_date)"
   ]
  },
  {
   "cell_type": "code",
   "execution_count": 27,
   "id": "77bd275d",
   "metadata": {},
   "outputs": [],
   "source": [
    "pred=model_Arima_fit.predict(start=pred_start_date,end=pred_end_date)\n",
    "residuals=df['price']-pred"
   ]
  },
  {
   "cell_type": "code",
   "execution_count": 28,
   "id": "145e8ea9",
   "metadata": {},
   "outputs": [
    {
     "data": {
      "text/plain": [
       "order_date\n",
       "2018-12-01 17:38:31    362.212513\n",
       "2018-12-02 13:53:42    347.599752\n",
       "2018-12-02 17:44:02    332.717633\n",
       "2018-12-02 21:30:19    335.977572\n",
       "2018-12-02 22:09:34    366.514163\n",
       "                          ...    \n",
       "2021-12-01 09:47:37    393.930587\n",
       "2021-12-01 09:50:37    416.561185\n",
       "2021-12-01 09:52:06    401.869072\n",
       "2021-12-01 09:55:35    440.706357\n",
       "2021-12-01 09:59:07    385.779613\n",
       "Name: predicted_mean, Length: 95910, dtype: float64"
      ]
     },
     "execution_count": 28,
     "metadata": {},
     "output_type": "execute_result"
    }
   ],
   "source": [
    "pred"
   ]
  },
  {
   "cell_type": "code",
   "execution_count": 29,
   "id": "2c1c8eb8",
   "metadata": {},
   "outputs": [
    {
     "data": {
      "text/plain": [
       "order_date\n",
       "2018-12-01 17:38:31   -150.072513\n",
       "2018-12-02 13:53:42   -292.939752\n",
       "2018-12-02 17:44:02   -243.817633\n",
       "2018-12-02 21:30:19     81.692428\n",
       "2018-12-02 22:09:34   -264.244163\n",
       "                          ...    \n",
       "2021-12-01 09:47:37    -31.717571\n",
       "2021-12-01 09:50:37   -186.571185\n",
       "2021-12-01 09:52:06    228.130928\n",
       "2021-12-01 09:55:35   -357.286357\n",
       "2021-12-01 09:59:07   -288.659613\n",
       "Length: 95910, dtype: float64"
      ]
     },
     "execution_count": 29,
     "metadata": {},
     "output_type": "execute_result"
    }
   ],
   "source": [
    "residuals"
   ]
  },
  {
   "cell_type": "code",
   "execution_count": null,
   "id": "7f5788ea",
   "metadata": {},
   "outputs": [],
   "source": [
    "To check model adequacy, we can use AIC + Residual analysis"
   ]
  },
  {
   "cell_type": "code",
   "execution_count": 37,
   "id": "f32b6d09",
   "metadata": {},
   "outputs": [
    {
     "name": "stdout",
     "output_type": "stream",
     "text": [
      "AIC: 1434574.9981466765\n"
     ]
    }
   ],
   "source": [
    "#  Calculate AIC\n",
    "aic_value = model_Arima_fit.aic\n",
    "print(\"AIC:\", aic_value)\n"
   ]
  },
  {
   "cell_type": "markdown",
   "id": "993f3526",
   "metadata": {},
   "source": [
    "**OBSERVATION** The value of AIC for the model is high. It means that model does not fit the data so well. "
   ]
  },
  {
   "cell_type": "code",
   "execution_count": 39,
   "id": "bec9a5bc",
   "metadata": {},
   "outputs": [
    {
     "data": {
      "text/plain": [
       "<AxesSubplot:>"
      ]
     },
     "execution_count": 39,
     "metadata": {},
     "output_type": "execute_result"
    },
    {
     "data": {
      "image/png": "[encoded data removed]",
      "text/plain": [
       "<Figure size 432x288 with 1 Axes>"
      ]
     },
     "metadata": {
      "needs_background": "light"
     },
     "output_type": "display_data"
    }
   ],
   "source": [
    "# Residual analysis for an ARIMA model\n",
    "residuals = model_Arima_fit.resid\n",
    "\n",
    "# Plot histogram of residuals\n",
    "residuals.hist()\n"
   ]
  },
  {
   "cell_type": "code",
   "execution_count": null,
   "id": "50f19fa3",
   "metadata": {},
   "outputs": [],
   "source": []
  },
  {
   "cell_type": "markdown",
   "id": "e5201abb",
   "metadata": {},
   "source": [
    " "
   ]
  },
  {
   "cell_type": "markdown",
   "id": "94843400",
   "metadata": {},
   "source": [
    "**b)** Make one-step-ahead forecasts of the last 10 observations. Determine the forecast errors."
   ]
  },
  {
   "cell_type": "markdown",
   "id": "b98a1ffb",
   "metadata": {},
   "source": [
    " "
   ]
  },
  {
   "cell_type": "code",
   "execution_count": 30,
   "id": "96b7e492",
   "metadata": {},
   "outputs": [],
   "source": [
    "pred=model_Arima_fit.predict(start='2018-12-01 17:38:31',end='2021-12-01 09:59:07')\n",
    "residuals=df['price'].unique()[-10]-pred"
   ]
  },
  {
   "cell_type": "code",
   "execution_count": 31,
   "id": "58052793",
   "metadata": {},
   "outputs": [
    {
     "data": {
      "text/plain": [
       "order_date\n",
       "2018-12-01 17:38:31    362.212513\n",
       "2018-12-02 13:53:42    347.599752\n",
       "2018-12-02 17:44:02    332.717633\n",
       "2018-12-02 21:30:19    335.977572\n",
       "2018-12-02 22:09:34    366.514163\n",
       "                          ...    \n",
       "2021-12-01 09:47:37    393.930587\n",
       "2021-12-01 09:50:37    416.561185\n",
       "2021-12-01 09:52:06    401.869072\n",
       "2021-12-01 09:55:35    440.706357\n",
       "2021-12-01 09:59:07    385.779613\n",
       "Name: predicted_mean, Length: 95910, dtype: float64"
      ]
     },
     "execution_count": 31,
     "metadata": {},
     "output_type": "execute_result"
    }
   ],
   "source": [
    "pred"
   ]
  },
  {
   "cell_type": "code",
   "execution_count": 32,
   "id": "1d438df2",
   "metadata": {},
   "outputs": [
    {
     "data": {
      "text/plain": [
       "<AxesSubplot:>"
      ]
     },
     "execution_count": 32,
     "metadata": {},
     "output_type": "execute_result"
    },
    {
     "data": {
      "image/png": "[encoded data removed]",
      "text/plain": [
       "<Figure size 432x288 with 1 Axes>"
      ]
     },
     "metadata": {
      "needs_background": "light"
     },
     "output_type": "display_data"
    }
   ],
   "source": [
    "pred.hist()"
   ]
  },
  {
   "cell_type": "code",
   "execution_count": 41,
   "id": "8604db3e",
   "metadata": {},
   "outputs": [
    {
     "data": {
      "text/plain": [
       "order_date\n",
       "2018-12-01 17:38:31   -150.072513\n",
       "2018-12-02 13:53:42   -292.939752\n",
       "2018-12-02 17:44:02   -243.817633\n",
       "2018-12-02 21:30:19     81.692428\n",
       "2018-12-02 22:09:34   -264.244163\n",
       "                          ...    \n",
       "2021-12-01 09:47:37    -31.717571\n",
       "2021-12-01 09:50:37   -186.571185\n",
       "2021-12-01 09:52:06    228.130928\n",
       "2021-12-01 09:55:35   -357.286357\n",
       "2021-12-01 09:59:07   -288.659613\n",
       "Length: 95910, dtype: float64"
      ]
     },
     "execution_count": 41,
     "metadata": {},
     "output_type": "execute_result"
    }
   ],
   "source": [
    "residuals"
   ]
  },
  {
   "cell_type": "code",
   "execution_count": 42,
   "id": "a236c666",
   "metadata": {},
   "outputs": [
    {
     "data": {
      "text/plain": [
       "<AxesSubplot:>"
      ]
     },
     "execution_count": 42,
     "metadata": {},
     "output_type": "execute_result"
    },
    {
     "data": {
      "image/png": "[encoded data removed]",
      "text/plain": [
       "<Figure size 432x288 with 1 Axes>"
      ]
     },
     "metadata": {
      "needs_background": "light"
     },
     "output_type": "display_data"
    }
   ],
   "source": [
    "residuals.hist()"
   ]
  },
  {
   "cell_type": "code",
   "execution_count": null,
   "id": "479fe6a9",
   "metadata": {},
   "outputs": [],
   "source": [
    "from scipy.stats import shapiro\n",
    "\n",
    "# Perform Shapiro-Wilk test for normality\n",
    "_, p_value = shapiro(residuals)\n",
    "\n",
    "# Check p-value\n",
    "if p_value < 0.05:\n",
    "    print(\"The residuals are not normally distributed.\")\n",
    "else:\n",
    "    print(\"The residuals appear to be normally distributed.\")\n"
   ]
  },
  {
   "cell_type": "code",
   "execution_count": null,
   "id": "4e97c3b1",
   "metadata": {},
   "outputs": [],
   "source": []
  },
  {
   "cell_type": "markdown",
   "id": "b402b934",
   "metadata": {},
   "source": [
    "**C)** Make a time series plot of the data, and further calculate and illustrate the sample autocorrelation and partial autocorrelation (PA). Is there significant autocorrelation in the chosen time series?"
   ]
  },
  {
   "cell_type": "code",
   "execution_count": 43,
   "id": "eb29bc40",
   "metadata": {},
   "outputs": [],
   "source": [
    "from statsmodels.graphics.tsaplots import plot_acf,plot_pacf"
   ]
  },
  {
   "cell_type": "code",
   "execution_count": 44,
   "id": "991f28ff",
   "metadata": {},
   "outputs": [
    {
     "data": {
      "image/png": "[encoded data removed]",
      "text/plain": [
       "<Figure size 432x288 with 1 Axes>"
      ]
     },
     "metadata": {
      "needs_background": "light"
     },
     "output_type": "display_data"
    }
   ],
   "source": [
    "acf = plot_acf(df[\"price\"].dropna())"
   ]
  },
  {
   "cell_type": "code",
   "execution_count": 45,
   "id": "09690918",
   "metadata": {},
   "outputs": [
    {
     "data": {
      "image/png": "[encoded data removed]",
      "text/plain": [
       "<Figure size 432x288 with 1 Axes>"
      ]
     },
     "metadata": {
      "needs_background": "light"
     },
     "output_type": "display_data"
    }
   ],
   "source": [
    "pacf = plot_pacf(df[\"price\"].dropna())"
   ]
  },
  {
   "cell_type": "markdown",
   "id": "edea7571",
   "metadata": {},
   "source": [
    "**ACF:** Direct and indirect effect of values in previous time lags. In the graph we can see the strongest correlation at early points of the time series and the following lags are stabilized with weak correlation between lags (but not negative). \n",
    "\n",
    "**PACF**: Plot shows the most common scenarion for PACF which is a significant spike on the initial lags and drops to zero on subsequent lags. "
   ]
  },
  {
   "cell_type": "markdown",
   "id": "b42f26ff",
   "metadata": {},
   "source": [
    "Despite Autocorrelation has a high correlation between the lags, \n",
    "I think this indicate overfit."
   ]
  },
  {
   "cell_type": "markdown",
   "id": "c1e6551d",
   "metadata": {},
   "source": [
    "Plotting Partial AutoCorrelation"
   ]
  },
  {
   "cell_type": "markdown",
   "id": "f4bc77bd",
   "metadata": {},
   "source": [
    "## Analysis using price attribute"
   ]
  },
  {
   "cell_type": "code",
   "execution_count": null,
   "id": "d27d1bb5",
   "metadata": {},
   "outputs": [],
   "source": [
    "# This ACF (Autocorrelation function) defines how data points\n",
    "#in time series are related on average to the preceding data points\n",
    "\n",
    "plot_acf(df['price'])"
   ]
  },
  {
   "cell_type": "markdown",
   "id": "380fd54f",
   "metadata": {},
   "source": [
    "Count the number of significant likes. \n",
    "Autocorrelation is the measure of each observation is correlated \n",
    "to the previous observation. "
   ]
  },
  {
   "cell_type": "code",
   "execution_count": null,
   "id": "8c71afd3",
   "metadata": {},
   "outputs": [],
   "source": [
    "plot_pacf(df[\"price\"], method='ywm')"
   ]
  },
  {
   "cell_type": "markdown",
   "id": "2be7b2df",
   "metadata": {},
   "source": [
    "By reviewing the autocorrelation above, we can see that there\n",
    "is no significant(strong) likes of correlation between obs(t) and t-1,\n",
    "t-2 and so on. "
   ]
  },
  {
   "cell_type": "markdown",
   "id": "e94c0947",
   "metadata": {},
   "source": [
    "\n",
    "Notes from class:\n",
    "ACF - Exponential decay => no MA (q=0)\n",
    "\n",
    "PACF - Significant value at lag 1 ie p=1"
   ]
  },
  {
   "cell_type": "markdown",
   "id": "3ed9a4ea",
   "metadata": {},
   "source": [
    "Running Akaike to evaluate model performance."
   ]
  },
  {
   "cell_type": "code",
   "execution_count": null,
   "id": "27525b72",
   "metadata": {},
   "outputs": [],
   "source": [
    "aicVals = []\n",
    "for p in range(5):\n",
    "    for q in range(5):\n",
    "        aicVals.append( [   sm.ARIMA( df[\"price\"], order=(p, 0, q) ).fit().aic, p, q   ] )"
   ]
  },
  {
   "cell_type": "code",
   "execution_count": null,
   "id": "6732fe14",
   "metadata": {},
   "outputs": [],
   "source": [
    "plotPerColumnDistribution(df, 10, 5)"
   ]
  },
  {
   "cell_type": "code",
   "execution_count": null,
   "id": "a9d260f4",
   "metadata": {},
   "outputs": [],
   "source": [
    "# Correlation matrix\n",
    "def plotCorrelationMatrix(df, graphWidth):\n",
    "    filename = df.dataframeName\n",
    "    df = df.dropna('columns') # drop columns with NaN\n",
    "    df = df[[col for col in df if df[col].nunique() > 1]] # keep columns where there are more than 1 unique values\n",
    "    if df.shape[1] < 2:\n",
    "        print(f'No correlation plots shown: The number of non-NaN or constant columns ({df.shape[1]}) is less than 2')\n",
    "        return\n",
    "    corr = df.corr()\n",
    "    plt.figure(num=None, figsize=(graphWidth, graphWidth), dpi=80, facecolor='w', edgecolor='k')\n",
    "    corrMat = plt.matshow(corr, fignum = 1)\n",
    "    plt.xticks(range(len(corr.columns)), corr.columns, rotation=90)\n",
    "    plt.yticks(range(len(corr.columns)), corr.columns)\n",
    "    plt.gca().xaxis.tick_bottom()\n",
    "    plt.colorbar(corrMat)\n",
    "    plt.title(f'Correlation Matrix for {filename}', fontsize=15)\n",
    "    plt.show()"
   ]
  },
  {
   "cell_type": "code",
   "execution_count": null,
   "id": "f42d8225",
   "metadata": {},
   "outputs": [],
   "source": [
    "plotCorrelationMatrix(df, 2)"
   ]
  },
  {
   "cell_type": "code",
   "execution_count": null,
   "id": "30d76c19",
   "metadata": {},
   "outputs": [],
   "source": []
  }
 ],
 "metadata": {
  "kernelspec": {
   "display_name": "Python 3 (ipykernel)",
   "language": "python",
   "name": "python3"
  },
  "language_info": {
   "codemirror_mode": {
    "name": "ipython",
    "version": 3
   },
   "file_extension": ".py",
   "mimetype": "text/x-python",
   "name": "python",
   "nbconvert_exporter": "python",
   "pygments_lexer": "ipython3",
   "version": "3.9.18"
  }
 },
 "nbformat": 4,
 "nbformat_minor": 5
}

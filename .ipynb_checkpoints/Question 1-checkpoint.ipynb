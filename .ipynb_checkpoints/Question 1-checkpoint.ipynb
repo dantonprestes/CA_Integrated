{
 "cells": [
  {
   "cell_type": "code",
   "execution_count": null,
   "id": "56a9e728",
   "metadata": {},
   "outputs": [],
   "source": []
  },
  {
   "cell_type": "code",
   "execution_count": null,
   "id": "51bc7b06",
   "metadata": {},
   "outputs": [],
   "source": []
  },
  {
   "cell_type": "markdown",
   "id": "4f369c8a",
   "metadata": {},
   "source": [
    "# Question 1"
   ]
  },
  {
   "attachments": {},
   "cell_type": "markdown",
   "id": "9d8bf7f8",
   "metadata": {},
   "source": [
    "Discuss the concept and application of Time series analysis using machine learning modelling by providing a real-world data set. \n",
    "\n",
    "What is the purpose of The Augmented Dickey-Fuller test in time series?\n",
    "\n",
    "Augmented Dickey Fuller test (ADF Test) is a common statistical test used to test whether a given Time series is stationary or not. \n",
    "\n",
    "It is one of the most commonly used statistical test when it comes to analyzing the stationary of a series. The ARIMA model mostly fit on the stationary dataset so we check the dataset is stationary or not by using the Dickey-Fuller Test.\n",
    "\n",
    "\n",
    "a) Apply an appropriate Box-Jenkins model to the chosen dataset (ARMA, ARIMA, SARIMA etc). \n",
    "Check for the model adequacy.\n"
   ]
  },
  {
   "cell_type": "code",
   "execution_count": null,
   "id": "eeaa6717",
   "metadata": {},
   "outputs": [],
   "source": [
    "##pip install --upgrade statsmodels pandas\n"
   ]
  },
  {
   "cell_type": "code",
   "execution_count": 1,
   "id": "4c1ba07c",
   "metadata": {},
   "outputs": [
    {
     "name": "stderr",
     "output_type": "stream",
     "text": [
      "/Users/dan/opt/anaconda3/lib/python3.9/site-packages/scipy/__init__.py:146: UserWarning: A NumPy version >=1.16.5 and <1.23.0 is required for this version of SciPy (detected version 1.26.2\n",
      "  warnings.warn(f\"A NumPy version >={np_minversion} and <{np_maxversion}\"\n"
     ]
    }
   ],
   "source": [
    "## Import the libraries\n",
    "import pandas as pd\n",
    "import numpy as np\n",
    "import matplotlib.pyplot as plt\n",
    "import seaborn as sns \n",
    "\n",
    "from statsmodels.tsa.arima.model import ARIMA\n",
    "\n",
    "import warnings\n",
    "warnings.simplefilter(\"ignore\")"
   ]
  },
  {
   "cell_type": "code",
   "execution_count": 2,
   "id": "b60a1d0f",
   "metadata": {},
   "outputs": [
    {
     "data": {
      "text/html": [
       "<div>\n",
       "<style scoped>\n",
       "    .dataframe tbody tr th:only-of-type {\n",
       "        vertical-align: middle;\n",
       "    }\n",
       "\n",
       "    .dataframe tbody tr th {\n",
       "        vertical-align: top;\n",
       "    }\n",
       "\n",
       "    .dataframe thead th {\n",
       "        text-align: right;\n",
       "    }\n",
       "</style>\n",
       "<table border=\"1\" class=\"dataframe\">\n",
       "  <thead>\n",
       "    <tr style=\"text-align: right;\">\n",
       "      <th></th>\n",
       "      <th>2018-12-01 11:40:29 UTC</th>\n",
       "      <th>1924719191579951782</th>\n",
       "      <th>1842195256808833386</th>\n",
       "      <th>1</th>\n",
       "      <th>1806829201890738522</th>\n",
       "      <th>jewelry.earring</th>\n",
       "      <th>0</th>\n",
       "      <th>561.51</th>\n",
       "      <th>1515915625207851155</th>\n",
       "      <th>Unnamed: 9</th>\n",
       "      <th>red</th>\n",
       "      <th>gold</th>\n",
       "      <th>diamond</th>\n",
       "    </tr>\n",
       "  </thead>\n",
       "  <tbody>\n",
       "    <tr>\n",
       "      <th>0</th>\n",
       "      <td>2018-12-01 17:38:31 UTC</td>\n",
       "      <td>1924899396621697920</td>\n",
       "      <td>1806829193678291446</td>\n",
       "      <td>1</td>\n",
       "      <td>1.806829e+18</td>\n",
       "      <td>NaN</td>\n",
       "      <td>NaN</td>\n",
       "      <td>212.14</td>\n",
       "      <td>1.515916e+18</td>\n",
       "      <td>NaN</td>\n",
       "      <td>yellow</td>\n",
       "      <td>gold</td>\n",
       "      <td>NaN</td>\n",
       "    </tr>\n",
       "    <tr>\n",
       "      <th>1</th>\n",
       "      <td>2018-12-02 13:53:42 UTC</td>\n",
       "      <td>1925511016616034733</td>\n",
       "      <td>1842214461889315556</td>\n",
       "      <td>1</td>\n",
       "      <td>1.806829e+18</td>\n",
       "      <td>jewelry.pendant</td>\n",
       "      <td>1.0</td>\n",
       "      <td>54.66</td>\n",
       "      <td>1.515916e+18</td>\n",
       "      <td>f</td>\n",
       "      <td>white</td>\n",
       "      <td>gold</td>\n",
       "      <td>sapphire</td>\n",
       "    </tr>\n",
       "    <tr>\n",
       "      <th>2</th>\n",
       "      <td>2018-12-02 17:44:02 UTC</td>\n",
       "      <td>1925626951238681511</td>\n",
       "      <td>1835566849434059453</td>\n",
       "      <td>1</td>\n",
       "      <td>1.806829e+18</td>\n",
       "      <td>jewelry.pendant</td>\n",
       "      <td>0.0</td>\n",
       "      <td>88.90</td>\n",
       "      <td>1.515916e+18</td>\n",
       "      <td>f</td>\n",
       "      <td>red</td>\n",
       "      <td>gold</td>\n",
       "      <td>diamond</td>\n",
       "    </tr>\n",
       "    <tr>\n",
       "      <th>3</th>\n",
       "      <td>2018-12-02 21:30:19 UTC</td>\n",
       "      <td>1925740842841014667</td>\n",
       "      <td>1873936840742928865</td>\n",
       "      <td>1</td>\n",
       "      <td>1.806829e+18</td>\n",
       "      <td>jewelry.necklace</td>\n",
       "      <td>0.0</td>\n",
       "      <td>417.67</td>\n",
       "      <td>1.515916e+18</td>\n",
       "      <td>NaN</td>\n",
       "      <td>red</td>\n",
       "      <td>gold</td>\n",
       "      <td>amethyst</td>\n",
       "    </tr>\n",
       "    <tr>\n",
       "      <th>4</th>\n",
       "      <td>2018-12-02 22:09:34 UTC</td>\n",
       "      <td>1925760595336888995</td>\n",
       "      <td>1835566854827934449</td>\n",
       "      <td>1</td>\n",
       "      <td>1.806829e+18</td>\n",
       "      <td>jewelry.earring</td>\n",
       "      <td>1.0</td>\n",
       "      <td>102.27</td>\n",
       "      <td>1.515916e+18</td>\n",
       "      <td>NaN</td>\n",
       "      <td>red</td>\n",
       "      <td>gold</td>\n",
       "      <td>NaN</td>\n",
       "    </tr>\n",
       "  </tbody>\n",
       "</table>\n",
       "</div>"
      ],
      "text/plain": [
       "   2018-12-01 11:40:29 UTC  1924719191579951782  1842195256808833386  1  \\\n",
       "0  2018-12-01 17:38:31 UTC  1924899396621697920  1806829193678291446  1   \n",
       "1  2018-12-02 13:53:42 UTC  1925511016616034733  1842214461889315556  1   \n",
       "2  2018-12-02 17:44:02 UTC  1925626951238681511  1835566849434059453  1   \n",
       "3  2018-12-02 21:30:19 UTC  1925740842841014667  1873936840742928865  1   \n",
       "4  2018-12-02 22:09:34 UTC  1925760595336888995  1835566854827934449  1   \n",
       "\n",
       "   1806829201890738522   jewelry.earring    0  561.51  1515915625207851155  \\\n",
       "0         1.806829e+18               NaN  NaN  212.14         1.515916e+18   \n",
       "1         1.806829e+18   jewelry.pendant  1.0   54.66         1.515916e+18   \n",
       "2         1.806829e+18   jewelry.pendant  0.0   88.90         1.515916e+18   \n",
       "3         1.806829e+18  jewelry.necklace  0.0  417.67         1.515916e+18   \n",
       "4         1.806829e+18   jewelry.earring  1.0  102.27         1.515916e+18   \n",
       "\n",
       "  Unnamed: 9     red  gold   diamond  \n",
       "0        NaN  yellow  gold       NaN  \n",
       "1          f   white  gold  sapphire  \n",
       "2          f     red  gold   diamond  \n",
       "3        NaN     red  gold  amethyst  \n",
       "4        NaN     red  gold       NaN  "
      ]
     },
     "execution_count": 2,
     "metadata": {},
     "output_type": "execute_result"
    }
   ],
   "source": [
    "## Import dataset\n",
    "df=pd.read_csv('jewelry.csv')\n",
    "df.head()"
   ]
  },
  {
   "cell_type": "code",
   "execution_count": 3,
   "id": "d142f820",
   "metadata": {},
   "outputs": [
    {
     "data": {
      "text/html": [
       "<div>\n",
       "<style scoped>\n",
       "    .dataframe tbody tr th:only-of-type {\n",
       "        vertical-align: middle;\n",
       "    }\n",
       "\n",
       "    .dataframe tbody tr th {\n",
       "        vertical-align: top;\n",
       "    }\n",
       "\n",
       "    .dataframe thead th {\n",
       "        text-align: right;\n",
       "    }\n",
       "</style>\n",
       "<table border=\"1\" class=\"dataframe\">\n",
       "  <thead>\n",
       "    <tr style=\"text-align: right;\">\n",
       "      <th></th>\n",
       "      <th>2018-12-01 11:40:29 UTC</th>\n",
       "      <th>1924719191579951782</th>\n",
       "      <th>1842195256808833386</th>\n",
       "      <th>1</th>\n",
       "      <th>1806829201890738522</th>\n",
       "      <th>jewelry.earring</th>\n",
       "      <th>0</th>\n",
       "      <th>561.51</th>\n",
       "      <th>1515915625207851155</th>\n",
       "      <th>Unnamed: 9</th>\n",
       "      <th>red</th>\n",
       "      <th>gold</th>\n",
       "      <th>diamond</th>\n",
       "    </tr>\n",
       "  </thead>\n",
       "  <tbody>\n",
       "    <tr>\n",
       "      <th>95905</th>\n",
       "      <td>2021-12-01 09:47:37 UTC</td>\n",
       "      <td>2719016587653808559</td>\n",
       "      <td>1515966223597820877</td>\n",
       "      <td>1</td>\n",
       "      <td>NaN</td>\n",
       "      <td>0.00</td>\n",
       "      <td>1.515916e+18</td>\n",
       "      <td>NaN</td>\n",
       "      <td>NaN</td>\n",
       "      <td>NaN</td>\n",
       "      <td>NaN</td>\n",
       "      <td>NaN</td>\n",
       "      <td>NaN</td>\n",
       "    </tr>\n",
       "    <tr>\n",
       "      <th>95906</th>\n",
       "      <td>2021-12-01 09:50:37 UTC</td>\n",
       "      <td>2719018098886705639</td>\n",
       "      <td>1956663830729720074</td>\n",
       "      <td>1</td>\n",
       "      <td>1.806829e+18</td>\n",
       "      <td>NaN</td>\n",
       "      <td>0.000000e+00</td>\n",
       "      <td>229.99</td>\n",
       "      <td>1.515916e+18</td>\n",
       "      <td>NaN</td>\n",
       "      <td>red</td>\n",
       "      <td>gold</td>\n",
       "      <td>NaN</td>\n",
       "    </tr>\n",
       "    <tr>\n",
       "      <th>95907</th>\n",
       "      <td>2021-12-01 09:52:06 UTC</td>\n",
       "      <td>2719018846999544322</td>\n",
       "      <td>1956663848219968336</td>\n",
       "      <td>1</td>\n",
       "      <td>1.806829e+18</td>\n",
       "      <td>jewelry.earring</td>\n",
       "      <td>1.000000e+00</td>\n",
       "      <td>630.00</td>\n",
       "      <td>1.515916e+18</td>\n",
       "      <td>f</td>\n",
       "      <td>white</td>\n",
       "      <td>gold</td>\n",
       "      <td>diamond</td>\n",
       "    </tr>\n",
       "    <tr>\n",
       "      <th>95908</th>\n",
       "      <td>2021-12-01 09:55:35 UTC</td>\n",
       "      <td>2719020596963836492</td>\n",
       "      <td>1835566854106513435</td>\n",
       "      <td>1</td>\n",
       "      <td>1.806829e+18</td>\n",
       "      <td>jewelry.earring</td>\n",
       "      <td>0.000000e+00</td>\n",
       "      <td>83.42</td>\n",
       "      <td>1.515916e+18</td>\n",
       "      <td>NaN</td>\n",
       "      <td>white</td>\n",
       "      <td>gold</td>\n",
       "      <td>fianit</td>\n",
       "    </tr>\n",
       "    <tr>\n",
       "      <th>95909</th>\n",
       "      <td>2021-12-01 09:59:07 UTC</td>\n",
       "      <td>2719022379232658075</td>\n",
       "      <td>1956663846156370429</td>\n",
       "      <td>1</td>\n",
       "      <td>1.806829e+18</td>\n",
       "      <td>jewelry.pendant</td>\n",
       "      <td>1.000000e+00</td>\n",
       "      <td>97.12</td>\n",
       "      <td>1.515916e+18</td>\n",
       "      <td>NaN</td>\n",
       "      <td>red</td>\n",
       "      <td>gold</td>\n",
       "      <td>NaN</td>\n",
       "    </tr>\n",
       "  </tbody>\n",
       "</table>\n",
       "</div>"
      ],
      "text/plain": [
       "       2018-12-01 11:40:29 UTC  1924719191579951782  1842195256808833386  1  \\\n",
       "95905  2021-12-01 09:47:37 UTC  2719016587653808559  1515966223597820877  1   \n",
       "95906  2021-12-01 09:50:37 UTC  2719018098886705639  1956663830729720074  1   \n",
       "95907  2021-12-01 09:52:06 UTC  2719018846999544322  1956663848219968336  1   \n",
       "95908  2021-12-01 09:55:35 UTC  2719020596963836492  1835566854106513435  1   \n",
       "95909  2021-12-01 09:59:07 UTC  2719022379232658075  1956663846156370429  1   \n",
       "\n",
       "       1806829201890738522  jewelry.earring             0  561.51  \\\n",
       "95905                  NaN             0.00  1.515916e+18     NaN   \n",
       "95906         1.806829e+18              NaN  0.000000e+00  229.99   \n",
       "95907         1.806829e+18  jewelry.earring  1.000000e+00  630.00   \n",
       "95908         1.806829e+18  jewelry.earring  0.000000e+00   83.42   \n",
       "95909         1.806829e+18  jewelry.pendant  1.000000e+00   97.12   \n",
       "\n",
       "       1515915625207851155 Unnamed: 9    red  gold  diamond  \n",
       "95905                  NaN        NaN    NaN   NaN      NaN  \n",
       "95906         1.515916e+18        NaN    red  gold      NaN  \n",
       "95907         1.515916e+18          f  white  gold  diamond  \n",
       "95908         1.515916e+18        NaN  white  gold   fianit  \n",
       "95909         1.515916e+18        NaN    red  gold      NaN  "
      ]
     },
     "execution_count": 3,
     "metadata": {},
     "output_type": "execute_result"
    }
   ],
   "source": [
    "df.tail()"
   ]
  },
  {
   "cell_type": "code",
   "execution_count": 4,
   "id": "fe208ee3",
   "metadata": {},
   "outputs": [
    {
     "data": {
      "text/plain": [
       "2018-12-01 11:40:29 UTC        0\n",
       "1924719191579951782            0\n",
       "1842195256808833386            0\n",
       "1                              0\n",
       "1806829201890738522         5352\n",
       "jewelry.earring             9933\n",
       "0                           4785\n",
       "561.51                      5352\n",
       "1515915625207851155         5352\n",
       "Unnamed: 9                 48167\n",
       "red                         7660\n",
       "gold                        5462\n",
       "diamond                    34058\n",
       "dtype: int64"
      ]
     },
     "execution_count": 4,
     "metadata": {},
     "output_type": "execute_result"
    }
   ],
   "source": [
    "df.isnull().sum()"
   ]
  },
  {
   "cell_type": "code",
   "execution_count": 5,
   "id": "53671f5e",
   "metadata": {},
   "outputs": [
    {
     "data": {
      "text/plain": [
       "(95910, 13)"
      ]
     },
     "execution_count": 5,
     "metadata": {},
     "output_type": "execute_result"
    }
   ],
   "source": [
    "# Checking dataset dimension\n",
    "df.shape"
   ]
  },
  {
   "cell_type": "code",
   "execution_count": 6,
   "id": "c353daf4",
   "metadata": {},
   "outputs": [
    {
     "name": "stdout",
     "output_type": "stream",
     "text": [
      "<class 'pandas.core.frame.DataFrame'>\n",
      "RangeIndex: 95910 entries, 0 to 95909\n",
      "Data columns (total 13 columns):\n",
      " #   Column                   Non-Null Count  Dtype  \n",
      "---  ------                   --------------  -----  \n",
      " 0   2018-12-01 11:40:29 UTC  95910 non-null  object \n",
      " 1   1924719191579951782      95910 non-null  int64  \n",
      " 2   1842195256808833386      95910 non-null  int64  \n",
      " 3   1                        95910 non-null  int64  \n",
      " 4   1806829201890738522      90558 non-null  float64\n",
      " 5   jewelry.earring          85977 non-null  object \n",
      " 6   0                        91125 non-null  float64\n",
      " 7   561.51                   90558 non-null  float64\n",
      " 8   1515915625207851155      90558 non-null  float64\n",
      " 9   Unnamed: 9               47743 non-null  object \n",
      " 10  red                      88250 non-null  object \n",
      " 11  gold                     90448 non-null  object \n",
      " 12  diamond                  61852 non-null  object \n",
      "dtypes: float64(4), int64(3), object(6)\n",
      "memory usage: 9.5+ MB\n"
     ]
    }
   ],
   "source": [
    "# check dataset column type\n",
    "df.info()"
   ]
  },
  {
   "cell_type": "code",
   "execution_count": 7,
   "id": "d7d9a2d9",
   "metadata": {},
   "outputs": [],
   "source": [
    "df.head()\n",
    "#no columns, add columns\n",
    "columns = ['order_date','order_id','user_id','purchase','category_id','category','brand','price','price_id','buyer','colour1','colour2','type']\n",
    "df.columns = columns"
   ]
  },
  {
   "cell_type": "code",
   "execution_count": 8,
   "id": "048b8d22",
   "metadata": {},
   "outputs": [
    {
     "data": {
      "text/html": [
       "<div>\n",
       "<style scoped>\n",
       "    .dataframe tbody tr th:only-of-type {\n",
       "        vertical-align: middle;\n",
       "    }\n",
       "\n",
       "    .dataframe tbody tr th {\n",
       "        vertical-align: top;\n",
       "    }\n",
       "\n",
       "    .dataframe thead th {\n",
       "        text-align: right;\n",
       "    }\n",
       "</style>\n",
       "<table border=\"1\" class=\"dataframe\">\n",
       "  <thead>\n",
       "    <tr style=\"text-align: right;\">\n",
       "      <th></th>\n",
       "      <th>order_date</th>\n",
       "      <th>order_id</th>\n",
       "      <th>user_id</th>\n",
       "      <th>purchase</th>\n",
       "      <th>category_id</th>\n",
       "      <th>category</th>\n",
       "      <th>brand</th>\n",
       "      <th>price</th>\n",
       "      <th>price_id</th>\n",
       "      <th>buyer</th>\n",
       "      <th>colour1</th>\n",
       "      <th>colour2</th>\n",
       "      <th>type</th>\n",
       "    </tr>\n",
       "  </thead>\n",
       "  <tbody>\n",
       "    <tr>\n",
       "      <th>0</th>\n",
       "      <td>2018-12-01 17:38:31 UTC</td>\n",
       "      <td>1924899396621697920</td>\n",
       "      <td>1806829193678291446</td>\n",
       "      <td>1</td>\n",
       "      <td>1.806829e+18</td>\n",
       "      <td>NaN</td>\n",
       "      <td>NaN</td>\n",
       "      <td>212.14</td>\n",
       "      <td>1.515916e+18</td>\n",
       "      <td>NaN</td>\n",
       "      <td>yellow</td>\n",
       "      <td>gold</td>\n",
       "      <td>NaN</td>\n",
       "    </tr>\n",
       "    <tr>\n",
       "      <th>1</th>\n",
       "      <td>2018-12-02 13:53:42 UTC</td>\n",
       "      <td>1925511016616034733</td>\n",
       "      <td>1842214461889315556</td>\n",
       "      <td>1</td>\n",
       "      <td>1.806829e+18</td>\n",
       "      <td>jewelry.pendant</td>\n",
       "      <td>1.0</td>\n",
       "      <td>54.66</td>\n",
       "      <td>1.515916e+18</td>\n",
       "      <td>f</td>\n",
       "      <td>white</td>\n",
       "      <td>gold</td>\n",
       "      <td>sapphire</td>\n",
       "    </tr>\n",
       "    <tr>\n",
       "      <th>2</th>\n",
       "      <td>2018-12-02 17:44:02 UTC</td>\n",
       "      <td>1925626951238681511</td>\n",
       "      <td>1835566849434059453</td>\n",
       "      <td>1</td>\n",
       "      <td>1.806829e+18</td>\n",
       "      <td>jewelry.pendant</td>\n",
       "      <td>0.0</td>\n",
       "      <td>88.90</td>\n",
       "      <td>1.515916e+18</td>\n",
       "      <td>f</td>\n",
       "      <td>red</td>\n",
       "      <td>gold</td>\n",
       "      <td>diamond</td>\n",
       "    </tr>\n",
       "    <tr>\n",
       "      <th>3</th>\n",
       "      <td>2018-12-02 21:30:19 UTC</td>\n",
       "      <td>1925740842841014667</td>\n",
       "      <td>1873936840742928865</td>\n",
       "      <td>1</td>\n",
       "      <td>1.806829e+18</td>\n",
       "      <td>jewelry.necklace</td>\n",
       "      <td>0.0</td>\n",
       "      <td>417.67</td>\n",
       "      <td>1.515916e+18</td>\n",
       "      <td>NaN</td>\n",
       "      <td>red</td>\n",
       "      <td>gold</td>\n",
       "      <td>amethyst</td>\n",
       "    </tr>\n",
       "    <tr>\n",
       "      <th>4</th>\n",
       "      <td>2018-12-02 22:09:34 UTC</td>\n",
       "      <td>1925760595336888995</td>\n",
       "      <td>1835566854827934449</td>\n",
       "      <td>1</td>\n",
       "      <td>1.806829e+18</td>\n",
       "      <td>jewelry.earring</td>\n",
       "      <td>1.0</td>\n",
       "      <td>102.27</td>\n",
       "      <td>1.515916e+18</td>\n",
       "      <td>NaN</td>\n",
       "      <td>red</td>\n",
       "      <td>gold</td>\n",
       "      <td>NaN</td>\n",
       "    </tr>\n",
       "  </tbody>\n",
       "</table>\n",
       "</div>"
      ],
      "text/plain": [
       "                order_date             order_id              user_id  \\\n",
       "0  2018-12-01 17:38:31 UTC  1924899396621697920  1806829193678291446   \n",
       "1  2018-12-02 13:53:42 UTC  1925511016616034733  1842214461889315556   \n",
       "2  2018-12-02 17:44:02 UTC  1925626951238681511  1835566849434059453   \n",
       "3  2018-12-02 21:30:19 UTC  1925740842841014667  1873936840742928865   \n",
       "4  2018-12-02 22:09:34 UTC  1925760595336888995  1835566854827934449   \n",
       "\n",
       "   purchase   category_id          category  brand   price      price_id  \\\n",
       "0         1  1.806829e+18               NaN    NaN  212.14  1.515916e+18   \n",
       "1         1  1.806829e+18   jewelry.pendant    1.0   54.66  1.515916e+18   \n",
       "2         1  1.806829e+18   jewelry.pendant    0.0   88.90  1.515916e+18   \n",
       "3         1  1.806829e+18  jewelry.necklace    0.0  417.67  1.515916e+18   \n",
       "4         1  1.806829e+18   jewelry.earring    1.0  102.27  1.515916e+18   \n",
       "\n",
       "  buyer colour1 colour2      type  \n",
       "0   NaN  yellow    gold       NaN  \n",
       "1     f   white    gold  sapphire  \n",
       "2     f     red    gold   diamond  \n",
       "3   NaN     red    gold  amethyst  \n",
       "4   NaN     red    gold       NaN  "
      ]
     },
     "execution_count": 8,
     "metadata": {},
     "output_type": "execute_result"
    }
   ],
   "source": [
    "df.head()"
   ]
  },
  {
   "cell_type": "code",
   "execution_count": 9,
   "id": "b1a9b040",
   "metadata": {},
   "outputs": [
    {
     "data": {
      "text/plain": [
       "order_date         0\n",
       "order_id           0\n",
       "user_id            0\n",
       "purchase           0\n",
       "category_id     5352\n",
       "category        9933\n",
       "brand           4785\n",
       "price           5352\n",
       "price_id        5352\n",
       "buyer          48167\n",
       "colour1         7660\n",
       "colour2         5462\n",
       "type           34058\n",
       "dtype: int64"
      ]
     },
     "execution_count": 9,
     "metadata": {},
     "output_type": "execute_result"
    }
   ],
   "source": [
    "#Checking for null values in columns\n",
    "\n",
    "df.isnull().sum()"
   ]
  },
  {
   "cell_type": "code",
   "execution_count": 10,
   "id": "519df9b9",
   "metadata": {},
   "outputs": [],
   "source": [
    "#dropping columns not needed\n",
    "df.drop(columns=['order_id','category_id','price_id','colour1','colour2'],inplace=True)"
   ]
  },
  {
   "cell_type": "code",
   "execution_count": 11,
   "id": "91b3a7a5",
   "metadata": {},
   "outputs": [],
   "source": [
    "#try to identify unique entries - check how many unique customers, brands and orders id are there.\n",
    "#need to compare order id's to customers to check whether same customer placed more than 1 order (improvement)\n",
    "\n",
    "unique_entries_dataframe = df.apply(lambda x: x.unique())\n"
   ]
  },
  {
   "cell_type": "code",
   "execution_count": 12,
   "id": "92c0a1ed",
   "metadata": {},
   "outputs": [
    {
     "name": "stdout",
     "output_type": "stream",
     "text": [
      "order_date    [2018-12-01 17:38:31 UTC, 2018-12-02 13:53:42 ...\n",
      "user_id       [1806829193678291446, 1842214461889315556, 183...\n",
      "purchase                                                    [1]\n",
      "category      [nan, jewelry.pendant, jewelry.necklace, jewel...\n",
      "brand         [nan, 1.0, 0.0, 2.0, 4.0, 6.0, 5.0, 3.0, 1.550...\n",
      "price         [212.14, 54.66, 88.9, 417.67, 102.27, 150.55, ...\n",
      "buyer                                               [nan, f, m]\n",
      "type          [nan, sapphire, diamond, amethyst, fianit, pea...\n",
      "dtype: object\n"
     ]
    }
   ],
   "source": [
    "print(unique_entries_dataframe)"
   ]
  },
  {
   "cell_type": "code",
   "execution_count": 13,
   "id": "ea211a7d",
   "metadata": {},
   "outputs": [],
   "source": [
    "df['price'].fillna(df['price'].mean(), inplace=True)"
   ]
  },
  {
   "cell_type": "code",
   "execution_count": 14,
   "id": "455faaa1",
   "metadata": {},
   "outputs": [
    {
     "data": {
      "text/html": [
       "<div>\n",
       "<style scoped>\n",
       "    .dataframe tbody tr th:only-of-type {\n",
       "        vertical-align: middle;\n",
       "    }\n",
       "\n",
       "    .dataframe tbody tr th {\n",
       "        vertical-align: top;\n",
       "    }\n",
       "\n",
       "    .dataframe thead th {\n",
       "        text-align: right;\n",
       "    }\n",
       "</style>\n",
       "<table border=\"1\" class=\"dataframe\">\n",
       "  <thead>\n",
       "    <tr style=\"text-align: right;\">\n",
       "      <th></th>\n",
       "      <th>order_date</th>\n",
       "      <th>user_id</th>\n",
       "      <th>purchase</th>\n",
       "      <th>category</th>\n",
       "      <th>brand</th>\n",
       "      <th>price</th>\n",
       "      <th>buyer</th>\n",
       "      <th>type</th>\n",
       "    </tr>\n",
       "  </thead>\n",
       "  <tbody>\n",
       "    <tr>\n",
       "      <th>0</th>\n",
       "      <td>2018-12-01 17:38:31 UTC</td>\n",
       "      <td>1806829193678291446</td>\n",
       "      <td>1</td>\n",
       "      <td>NaN</td>\n",
       "      <td>NaN</td>\n",
       "      <td>212.14</td>\n",
       "      <td>NaN</td>\n",
       "      <td>NaN</td>\n",
       "    </tr>\n",
       "    <tr>\n",
       "      <th>1</th>\n",
       "      <td>2018-12-02 13:53:42 UTC</td>\n",
       "      <td>1842214461889315556</td>\n",
       "      <td>1</td>\n",
       "      <td>jewelry.pendant</td>\n",
       "      <td>1.0</td>\n",
       "      <td>54.66</td>\n",
       "      <td>f</td>\n",
       "      <td>sapphire</td>\n",
       "    </tr>\n",
       "    <tr>\n",
       "      <th>2</th>\n",
       "      <td>2018-12-02 17:44:02 UTC</td>\n",
       "      <td>1835566849434059453</td>\n",
       "      <td>1</td>\n",
       "      <td>jewelry.pendant</td>\n",
       "      <td>0.0</td>\n",
       "      <td>88.90</td>\n",
       "      <td>f</td>\n",
       "      <td>diamond</td>\n",
       "    </tr>\n",
       "    <tr>\n",
       "      <th>3</th>\n",
       "      <td>2018-12-02 21:30:19 UTC</td>\n",
       "      <td>1873936840742928865</td>\n",
       "      <td>1</td>\n",
       "      <td>jewelry.necklace</td>\n",
       "      <td>0.0</td>\n",
       "      <td>417.67</td>\n",
       "      <td>NaN</td>\n",
       "      <td>amethyst</td>\n",
       "    </tr>\n",
       "    <tr>\n",
       "      <th>4</th>\n",
       "      <td>2018-12-02 22:09:34 UTC</td>\n",
       "      <td>1835566854827934449</td>\n",
       "      <td>1</td>\n",
       "      <td>jewelry.earring</td>\n",
       "      <td>1.0</td>\n",
       "      <td>102.27</td>\n",
       "      <td>NaN</td>\n",
       "      <td>NaN</td>\n",
       "    </tr>\n",
       "  </tbody>\n",
       "</table>\n",
       "</div>"
      ],
      "text/plain": [
       "                order_date              user_id  purchase          category  \\\n",
       "0  2018-12-01 17:38:31 UTC  1806829193678291446         1               NaN   \n",
       "1  2018-12-02 13:53:42 UTC  1842214461889315556         1   jewelry.pendant   \n",
       "2  2018-12-02 17:44:02 UTC  1835566849434059453         1   jewelry.pendant   \n",
       "3  2018-12-02 21:30:19 UTC  1873936840742928865         1  jewelry.necklace   \n",
       "4  2018-12-02 22:09:34 UTC  1835566854827934449         1   jewelry.earring   \n",
       "\n",
       "   brand   price buyer      type  \n",
       "0    NaN  212.14   NaN       NaN  \n",
       "1    1.0   54.66     f  sapphire  \n",
       "2    0.0   88.90     f   diamond  \n",
       "3    0.0  417.67   NaN  amethyst  \n",
       "4    1.0  102.27   NaN       NaN  "
      ]
     },
     "execution_count": 14,
     "metadata": {},
     "output_type": "execute_result"
    }
   ],
   "source": [
    "df.head()"
   ]
  },
  {
   "cell_type": "code",
   "execution_count": 15,
   "id": "c14415fd",
   "metadata": {},
   "outputs": [],
   "source": [
    "## treating date format on dataset to use as index, so we convert this in date format\n",
    "from datetime import datetime\n",
    "df['order_date']=pd.to_datetime(df['order_date'])"
   ]
  },
  {
   "cell_type": "code",
   "execution_count": 26,
   "id": "f785b937",
   "metadata": {},
   "outputs": [
    {
     "name": "stdout",
     "output_type": "stream",
     "text": [
      "0       2018-12-01 17:38:31\n",
      "1       2018-12-02 13:53:42\n",
      "2       2018-12-02 17:44:02\n",
      "3       2018-12-02 21:30:19\n",
      "4       2018-12-02 22:09:34\n",
      "                ...        \n",
      "95905   2021-12-01 09:47:37\n",
      "95906   2021-12-01 09:50:37\n",
      "95907   2021-12-01 09:52:06\n",
      "95908   2021-12-01 09:55:35\n",
      "95909   2021-12-01 09:59:07\n",
      "Name: order_date, Length: 95910, dtype: datetime64[ns]\n"
     ]
    }
   ],
   "source": [
    "## treating date format on dataset to use as index, so we convert this in date format\n",
    "from datetime import datetime, timedelta, timezone\n",
    "\n",
    "df['order_date'] = pd.to_datetime(df['order_date'])\n",
    "\n",
    "# Split timezone from datetime\n",
    "df['order_date'] = df['order_date'].dt.tz_localize(None)\n",
    "\n",
    "# Print the modified DataFrame\n",
    "print(df.order_date)\n"
   ]
  },
  {
   "cell_type": "code",
   "execution_count": 16,
   "id": "fb010f9f",
   "metadata": {},
   "outputs": [
    {
     "name": "stdout",
     "output_type": "stream",
     "text": [
      "<class 'pandas.core.frame.DataFrame'>\n",
      "RangeIndex: 95910 entries, 0 to 95909\n",
      "Data columns (total 8 columns):\n",
      " #   Column      Non-Null Count  Dtype              \n",
      "---  ------      --------------  -----              \n",
      " 0   order_date  95910 non-null  datetime64[ns, UTC]\n",
      " 1   user_id     95910 non-null  int64              \n",
      " 2   purchase    95910 non-null  int64              \n",
      " 3   category    85977 non-null  object             \n",
      " 4   brand       91125 non-null  float64            \n",
      " 5   price       95910 non-null  float64            \n",
      " 6   buyer       47743 non-null  object             \n",
      " 7   type        61852 non-null  object             \n",
      "dtypes: datetime64[ns, UTC](1), float64(2), int64(2), object(3)\n",
      "memory usage: 5.9+ MB\n"
     ]
    }
   ],
   "source": [
    "df.info()"
   ]
  },
  {
   "cell_type": "code",
   "execution_count": null,
   "id": "8c8c7a7c",
   "metadata": {},
   "outputs": [],
   "source": [
    "##Changing/select important column to be used as index column.\n",
    "df=df.set_index('order_date')\n",
    "df.head()\n",
    "\n"
   ]
  },
  {
   "cell_type": "code",
   "execution_count": 27,
   "id": "17c49b87",
   "metadata": {},
   "outputs": [
    {
     "data": {
      "image/png": "[encoded data removed]",
      "text/plain": [
       "<Figure size 432x288 with 1 Axes>"
      ]
     },
     "metadata": {
      "needs_background": "light"
     },
     "output_type": "display_data"
    }
   ],
   "source": [
    "df['order_date'].plot();"
   ]
  },
  {
   "cell_type": "code",
   "execution_count": 30,
   "id": "725855af",
   "metadata": {},
   "outputs": [
    {
     "data": {
      "text/plain": [
       "(12.151794247057529,\n",
       " 1.0,\n",
       " 67,\n",
       " 95842,\n",
       " {'1%': -3.4304182318310454,\n",
       "  '5%': -2.861570157385919,\n",
       "  '10%': -2.5667860517237604},\n",
       " 5845699.604092238)"
      ]
     },
     "execution_count": 30,
     "metadata": {},
     "output_type": "execute_result"
    }
   ],
   "source": [
    "from statsmodels.graphics.tsaplots import plot_acf, plot_pacf\n",
    "from statsmodels.tsa.stattools import adfuller\n",
    "adfuller(df['order_date'])"
   ]
  },
  {
   "cell_type": "code",
   "execution_count": 31,
   "id": "f0dbb06f",
   "metadata": {},
   "outputs": [
    {
     "data": {
      "image/png": "[encoded data removed]",
      "text/plain": [
       "<Figure size 432x288 with 1 Axes>"
      ]
     },
     "execution_count": 31,
     "metadata": {},
     "output_type": "execute_result"
    },
    {
     "data": {
      "image/png": "[encoded data removed]",
      "text/plain": [
       "<Figure size 432x288 with 1 Axes>"
      ]
     },
     "metadata": {
      "needs_background": "light"
     },
     "output_type": "display_data"
    }
   ],
   "source": [
    "# This ACF (Autocorrelation function) defines how data points\n",
    "#in time series are related on average to the preceding data points\n",
    "\n",
    "plot_acf(df['order_date'])"
   ]
  },
  {
   "cell_type": "code",
   "execution_count": null,
   "id": "015c2fca",
   "metadata": {},
   "outputs": [],
   "source": [
    "I think this indicate overfit."
   ]
  },
  {
   "cell_type": "code",
   "execution_count": 32,
   "id": "85e44eba",
   "metadata": {},
   "outputs": [
    {
     "data": {
      "image/png": "[encoded data removed]",
      "text/plain": [
       "<Figure size 432x288 with 1 Axes>"
      ]
     },
     "execution_count": 32,
     "metadata": {},
     "output_type": "execute_result"
    },
    {
     "data": {
      "image/png": "[encoded data removed]",
      "text/plain": [
       "<Figure size 432x288 with 1 Axes>"
      ]
     },
     "metadata": {
      "needs_background": "light"
     },
     "output_type": "display_data"
    }
   ],
   "source": [
    "plot_pacf(df[\"order_date\"], method='ywm')"
   ]
  },
  {
   "cell_type": "markdown",
   "id": "56be9ad0",
   "metadata": {},
   "source": [
    "## Analysing using price attribute"
   ]
  },
  {
   "cell_type": "code",
   "execution_count": 33,
   "id": "0bc92fae",
   "metadata": {},
   "outputs": [
    {
     "data": {
      "text/plain": [
       "(-43.43740023879711,\n",
       " 0.0,\n",
       " 38,\n",
       " 95871,\n",
       " {'1%': -3.4304182111910597,\n",
       "  '5%': -2.861570148263478,\n",
       "  '10%': -2.5667860468681853},\n",
       " 1433753.9573457872)"
      ]
     },
     "execution_count": 33,
     "metadata": {},
     "output_type": "execute_result"
    }
   ],
   "source": [
    "#Running Augmented Dickey Fuller test for price\n",
    "adfuller(df['price'])"
   ]
  },
  {
   "cell_type": "code",
   "execution_count": 34,
   "id": "0423ffeb",
   "metadata": {},
   "outputs": [
    {
     "data": {
      "image/png": "[encoded data removed]",
      "text/plain": [
       "<Figure size 432x288 with 1 Axes>"
      ]
     },
     "metadata": {
      "needs_background": "light"
     },
     "output_type": "display_data"
    }
   ],
   "source": [
    "#Plot to understand how price behaves \n",
    "df['price'].plot();"
   ]
  },
  {
   "cell_type": "code",
   "execution_count": 35,
   "id": "16226913",
   "metadata": {},
   "outputs": [
    {
     "data": {
      "image/png": "[encoded data removed]",
      "text/plain": [
       "<Figure size 432x288 with 1 Axes>"
      ]
     },
     "execution_count": 35,
     "metadata": {},
     "output_type": "execute_result"
    },
    {
     "data": {
      "image/png": "[encoded data removed]",
      "text/plain": [
       "<Figure size 432x288 with 1 Axes>"
      ]
     },
     "metadata": {
      "needs_background": "light"
     },
     "output_type": "display_data"
    }
   ],
   "source": [
    "# This ACF (Autocorrelation function) defines how data points\n",
    "#in time series are related on average to the preceding data points\n",
    "\n",
    "plot_acf(df['price'])"
   ]
  },
  {
   "cell_type": "markdown",
   "id": "e3637cdd",
   "metadata": {},
   "source": [
    "Count the number of significant likes. \n",
    "Autocorrelation is the measure of each observation is correlated \n",
    "to the previous observation. "
   ]
  },
  {
   "cell_type": "code",
   "execution_count": null,
   "id": "84269d85",
   "metadata": {},
   "outputs": [],
   "source": [
    "plot_pacf(df[\"price\"], method='ywm')"
   ]
  },
  {
   "cell_type": "markdown",
   "id": "16207ef9",
   "metadata": {},
   "source": [
    "By reviewing the autocorrelation above, we can see that there\n",
    "is no significant(strong) likes of correlation between obs(t) and t-1,\n",
    "t-2 and so on. "
   ]
  },
  {
   "cell_type": "markdown",
   "id": "719fa665",
   "metadata": {},
   "source": [
    "\n",
    "Notes from class:\n",
    "ACF - Exponential decay => no MA (q=0)\n",
    "\n",
    "PACF - Significant value at lag 1 ie p=1"
   ]
  },
  {
   "cell_type": "markdown",
   "id": "53358275",
   "metadata": {},
   "source": [
    "# ARIMA"
   ]
  },
  {
   "cell_type": "code",
   "execution_count": null,
   "id": "a795f8b8",
   "metadata": {},
   "outputs": [],
   "source": [
    "import statsmodels.tsa.api as smtsa\n",
    "#number of samples\n",
    "n=600\n",
    "#Generate AR(1) dataset\n",
    "ar = np.r_[1,-0.6]\n",
    "ma = np.r_[1, 0]\n",
    "ar1_data = smtsa.arma_generate_sample(ar=ar, ma=ma, nsample=n)\n",
    "#plotds(ar1_data)\n",
    "\n",
    "ar1model = smtsa.ARMA(ar1_data.tolist(), order=(1, 0))\n",
    "ar1=ar1model.fit(maxlag=30, method='mle', tren='nc')\n",
    "ar1.summary()"
   ]
  },
  {
   "cell_type": "code",
   "execution_count": null,
   "id": "9ccf234c",
   "metadata": {},
   "outputs": [],
   "source": []
  },
  {
   "cell_type": "code",
   "execution_count": null,
   "id": "2b7e7ba7",
   "metadata": {},
   "outputs": [],
   "source": [
    "## create a ARIMA model\n",
    "\n",
    "model_ARMA=ARIMA(df['price'],order=(1,0,2))"
   ]
  },
  {
   "cell_type": "code",
   "execution_count": null,
   "id": "0874cec6",
   "metadata": {},
   "outputs": [],
   "source": [
    "model_Arima_fit=model_ARMA.fit()\n",
    "model_Arima_fit.summary()"
   ]
  },
  {
   "cell_type": "code",
   "execution_count": null,
   "id": "05c3007b",
   "metadata": {},
   "outputs": [],
   "source": [
    "##prediction\n",
    "pred_start_date=df.index[0]\n",
    "pred_end_date=df.index[-1]\n",
    "print(pred_start_date)\n",
    "print(pred_end_date)"
   ]
  },
  {
   "cell_type": "code",
   "execution_count": null,
   "id": "53e36021",
   "metadata": {},
   "outputs": [],
   "source": [
    "pred=model_Arima_fit.predict(start=pred_start_date,end=pred_end_date)\n",
    "residuals=df['price']-pred"
   ]
  },
  {
   "cell_type": "code",
   "execution_count": null,
   "id": "ddc29cfe",
   "metadata": {},
   "outputs": [],
   "source": [
    "pred"
   ]
  },
  {
   "cell_type": "code",
   "execution_count": null,
   "id": "5bee6b1c",
   "metadata": {},
   "outputs": [],
   "source": [
    "residuals"
   ]
  },
  {
   "cell_type": "code",
   "execution_count": null,
   "id": "f8ca4810",
   "metadata": {},
   "outputs": [],
   "source": []
  },
  {
   "cell_type": "code",
   "execution_count": null,
   "id": "01ccf948",
   "metadata": {},
   "outputs": [],
   "source": [
    "pred=model_Arima_fit.predict(start='2021-12-01 08:59:07',end='2021-12-01 09:59:07')\n",
    "residuals=df['price'].unique()[-10]-pred"
   ]
  },
  {
   "cell_type": "code",
   "execution_count": null,
   "id": "5a4dfba9",
   "metadata": {},
   "outputs": [],
   "source": [
    "plotPerColumnDistribution(df, 10, 5)"
   ]
  },
  {
   "cell_type": "code",
   "execution_count": null,
   "id": "46dee060",
   "metadata": {},
   "outputs": [],
   "source": [
    "# Correlation matrix\n",
    "def plotCorrelationMatrix(df, graphWidth):\n",
    "    filename = df.dataframeName\n",
    "    df = df.dropna('columns') # drop columns with NaN\n",
    "    df = df[[col for col in df if df[col].nunique() > 1]] # keep columns where there are more than 1 unique values\n",
    "    if df.shape[1] < 2:\n",
    "        print(f'No correlation plots shown: The number of non-NaN or constant columns ({df.shape[1]}) is less than 2')\n",
    "        return\n",
    "    corr = df.corr()\n",
    "    plt.figure(num=None, figsize=(graphWidth, graphWidth), dpi=80, facecolor='w', edgecolor='k')\n",
    "    corrMat = plt.matshow(corr, fignum = 1)\n",
    "    plt.xticks(range(len(corr.columns)), corr.columns, rotation=90)\n",
    "    plt.yticks(range(len(corr.columns)), corr.columns)\n",
    "    plt.gca().xaxis.tick_bottom()\n",
    "    plt.colorbar(corrMat)\n",
    "    plt.title(f'Correlation Matrix for {filename}', fontsize=15)\n",
    "    plt.show()"
   ]
  },
  {
   "cell_type": "code",
   "execution_count": null,
   "id": "84546f4f",
   "metadata": {},
   "outputs": [],
   "source": [
    "plotCorrelationMatrix(df, 2)"
   ]
  },
  {
   "cell_type": "code",
   "execution_count": null,
   "id": "907483cf",
   "metadata": {},
   "outputs": [],
   "source": []
  }
 ],
 "metadata": {
  "kernelspec": {
   "display_name": "Python 3 (ipykernel)",
   "language": "python",
   "name": "python3"
  },
  "language_info": {
   "codemirror_mode": {
    "name": "ipython",
    "version": 3
   },
   "file_extension": ".py",
   "mimetype": "text/x-python",
   "name": "python",
   "nbconvert_exporter": "python",
   "pygments_lexer": "ipython3",
   "version": "3.9.18"
  }
 },
 "nbformat": 4,
 "nbformat_minor": 5
}
